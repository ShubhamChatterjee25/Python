{
 "cells": [
  {
   "cell_type": "markdown",
   "id": "65319ea5-3402-46a1-896a-87906fd16ba4",
   "metadata": {},
   "source": [
    "### 1 . What is Exception and Differences from Syntax error"
   ]
  },
  {
   "cell_type": "markdown",
   "id": "b4720698-68b7-468b-aec0-bdc88286e60b",
   "metadata": {},
   "source": [
    "- An Exception is an event that occurs during runtime. it means there is a flaw in executing the program as it is. the flaws are formed of different types of errors. it is called an \"Exception\" because the program is behaving outside scope of system's instructions."
   ]
  },
  {
   "cell_type": "markdown",
   "id": "f6454837-fd28-4c35-bc5f-ac39f70c685f",
   "metadata": {},
   "source": [
    "#### Differences between Exception and Syntax error"
   ]
  },
  {
   "cell_type": "markdown",
   "id": "633bfe3e-3b8f-4ffe-b949-58b5b7c369f6",
   "metadata": {},
   "source": [
    "Syntax errors :-\n",
    "\n",
    "1. can occur during compile time or runtime \n",
    "2. usually occured when rules of programming are not followed\n",
    "3. mistypes and omitting of certain characters and symbols\n",
    "4. does not execute the program until fixed\n",
    "5. syntax error are mandatory to be rectified they cannot be handled like exceptions\n"
   ]
  },
  {
   "cell_type": "markdown",
   "id": "b3c68f8f-aa70-40d7-8bc3-2dd9920127f5",
   "metadata": {},
   "source": [
    "Exception :-\n",
    "\n",
    "1. can occcur only during runtime\n",
    "2. usually occured when flow of program is interrupted \n",
    "3. unlike syntax error exception can be handled with \"except\"\n",
    "4. execution of program will not be stopped if handled.\n",
    "5. can create custom exceptions and manage risk as we like"
   ]
  },
  {
   "cell_type": "markdown",
   "id": "7873845e-5abf-4586-9ca4-7bc16b180a88",
   "metadata": {},
   "source": [
    "### 2 . What happens when Exception is not handled with example"
   ]
  },
  {
   "cell_type": "markdown",
   "id": "a5ce4d8f-e11e-408d-ba69-54b0f00b0e43",
   "metadata": {},
   "source": [
    "if we created a \"try\" block and did not put anything in \"except\" clause to handle that error. it will raise an exception immediately . if we are using a \"finally\" clause in the code, in that case the exception will still \"re=raise\" but only after the \"finally\" clasue has been executed"
   ]
  },
  {
   "cell_type": "code",
   "execution_count": 5,
   "id": "ec726deb-e4bd-4e1e-a6e5-30a9391ee224",
   "metadata": {},
   "outputs": [
    {
     "name": "stdout",
     "output_type": "stream",
     "text": [
      "finally clause is still printed along with the exception\n"
     ]
    },
    {
     "ename": "ZeroDivisionError",
     "evalue": "division by zero",
     "output_type": "error",
     "traceback": [
      "\u001b[0;31m---------------------------------------------------------------------------\u001b[0m",
      "\u001b[0;31mZeroDivisionError\u001b[0m                         Traceback (most recent call last)",
      "Cell \u001b[0;32mIn[5], line 4\u001b[0m\n\u001b[1;32m      1\u001b[0m \u001b[38;5;66;03m## Example to show the unhandled Exception\u001b[39;00m\n\u001b[1;32m      2\u001b[0m \u001b[38;5;66;03m## creating try block\u001b[39;00m\n\u001b[1;32m      3\u001b[0m \u001b[38;5;28;01mtry\u001b[39;00m:\n\u001b[0;32m----> 4\u001b[0m     \u001b[38;5;241;43m10\u001b[39;49m\u001b[38;5;241;43m/\u001b[39;49m\u001b[38;5;241;43m0\u001b[39;49m \u001b[38;5;66;03m## invoking ZeroDivisonError\u001b[39;00m\n\u001b[1;32m      6\u001b[0m \u001b[38;5;28;01mfinally\u001b[39;00m :\n\u001b[1;32m      7\u001b[0m     \u001b[38;5;28mprint\u001b[39m(\u001b[38;5;124m\"\u001b[39m\u001b[38;5;124mfinally clause is still printed along with the exception\u001b[39m\u001b[38;5;124m\"\u001b[39m)\n",
      "\u001b[0;31mZeroDivisionError\u001b[0m: division by zero"
     ]
    }
   ],
   "source": [
    "## Example to show the unhandled Exception\n",
    "## creating try block\n",
    "try:\n",
    "    10/0 ## invoking ZeroDivisonError\n",
    "\n",
    "finally :\n",
    "    print(\"finally clause is still printed along with the exception\")"
   ]
  },
  {
   "cell_type": "markdown",
   "id": "23f4ec3f-b075-4007-9a65-58efe73bc8dd",
   "metadata": {},
   "source": [
    "### 3 . Statements used to catch and handle Exceptions with example"
   ]
  },
  {
   "cell_type": "markdown",
   "id": "ac098506-782d-4f39-b355-d83529944d3e",
   "metadata": {},
   "source": [
    "In python \"try\" and \"except\" keywords are used to catch and handle exceptions . \n",
    "\n",
    "- try is used to placea any problematic statement inside it and throw it to the except clause when an exception occurs\n",
    "\n",
    "- except class handles the exception and continues the execution of the program"
   ]
  },
  {
   "cell_type": "code",
   "execution_count": 6,
   "id": "e77be826-69e7-4159-8ae5-c903ba0ff26e",
   "metadata": {},
   "outputs": [
    {
     "name": "stdout",
     "output_type": "stream",
     "text": [
      "division by zero\n"
     ]
    }
   ],
   "source": [
    "## Example to show catch and handle statements\n",
    "## creating a try block\n",
    "try:  ## this is a statement to catch the exception and throw to handle statment\n",
    "    a= 10\n",
    "    b= 0\n",
    "    c= a/b\n",
    "    \n",
    "except ZeroDivisionError as e: ## this is a handle statement to handle ZeroDivisionError\n",
    "    print(e)"
   ]
  },
  {
   "cell_type": "markdown",
   "id": "b49af70c-0ed3-4dd0-bba3-7b6a08aa4f3d",
   "metadata": {},
   "source": [
    "### 4 . Explain the following with example"
   ]
  },
  {
   "cell_type": "markdown",
   "id": "f0ecbc94-7dd1-4b32-ab1d-88af9d8332bc",
   "metadata": {},
   "source": [
    "In python to handle an exception we have certain keywords and statements such as:\n",
    "\n",
    "1. try block\n",
    "2. else clause\n",
    "3. finally\n",
    "4. raise keyword"
   ]
  },
  {
   "cell_type": "markdown",
   "id": "6b15d8bb-ae2f-4785-8528-59832e44f0f9",
   "metadata": {},
   "source": [
    "##### 1 . try and else cluase\n",
    "\n",
    "try is a block which catches and throws statements we put-in to handling clause.\n",
    "where as else clause is used to instruct what to do incase the exception did not raised."
   ]
  },
  {
   "cell_type": "code",
   "execution_count": 9,
   "id": "99a56979-e893-4100-a953-14d7e8662fe1",
   "metadata": {},
   "outputs": [
    {
     "name": "stdout",
     "output_type": "stream",
     "text": [
      "this will only execute if try executed succesfully\n"
     ]
    }
   ],
   "source": [
    "## example to show try and else clause\n",
    "## creating try block\n",
    "try: ## try is created to store any problematic code\n",
    "    a=10\n",
    "    b=5\n",
    "    c= a/b\n",
    "except Exception as e:\n",
    "    print(e)\n",
    "else: ## else will invoke if try has no errors\n",
    "    print(\"this will only execute if try executed succesfully\")\n",
    "    "
   ]
  },
  {
   "cell_type": "markdown",
   "id": "7fbc817a-d54a-464d-a2ed-972b5ca90dc0",
   "metadata": {},
   "source": [
    "##### 3 . finally\n",
    "\n",
    "finally is a reserved keyword that will execute regardless of whether try block is sucessful or not. we can use this incase we need an action that needs to be done no matter what."
   ]
  },
  {
   "cell_type": "code",
   "execution_count": 11,
   "id": "7ceac03f-8ff3-4b45-8eef-c9900738cce2",
   "metadata": {},
   "outputs": [
    {
     "name": "stdout",
     "output_type": "stream",
     "text": [
      "division by zero\n",
      "Finally will execute always\n"
     ]
    }
   ],
   "source": [
    "## example to show finally block\n",
    "## creating try block\n",
    "try:\n",
    "    a = 10\n",
    "    b = 0\n",
    "    c = 10/0\n",
    "    ## creating except to handle zerodivison\n",
    "except ZeroDivisionError as e:\n",
    "    print(e)\n",
    "    ## finally we execute reagardless of execution of try\n",
    "finally :\n",
    "    print(\"Finally will execute always\")"
   ]
  },
  {
   "cell_type": "markdown",
   "id": "665d6ec2-1187-4bd8-a70e-c6ef10956cbb",
   "metadata": {},
   "source": [
    "##### 4 . raise \n",
    "\n",
    "\"raise\" is a keyword, which is used to raise an exception and print any text we want. it is used to raise an exception and stop the control flow of the program. we can define any exception we want to raise including custom exception."
   ]
  },
  {
   "cell_type": "code",
   "execution_count": 14,
   "id": "47c71c72-0067-4d71-8a37-49658ecb0b13",
   "metadata": {},
   "outputs": [
    {
     "ename": "TypeError",
     "evalue": "Please Provide only characters or alphabets ",
     "output_type": "error",
     "traceback": [
      "\u001b[0;31m---------------------------------------------------------------------------\u001b[0m",
      "\u001b[0;31mTypeError\u001b[0m                                 Traceback (most recent call last)",
      "Cell \u001b[0;32mIn[14], line 5\u001b[0m\n\u001b[1;32m      2\u001b[0m x \u001b[38;5;241m=\u001b[39m \u001b[38;5;241m1\u001b[39m\n\u001b[1;32m      4\u001b[0m \u001b[38;5;28;01mif\u001b[39;00m \u001b[38;5;28mtype\u001b[39m(x) \u001b[38;5;241m==\u001b[39m \u001b[38;5;28mint\u001b[39m :\n\u001b[0;32m----> 5\u001b[0m     \u001b[38;5;28;01mraise\u001b[39;00m \u001b[38;5;167;01mTypeError\u001b[39;00m(\u001b[38;5;124m\"\u001b[39m\u001b[38;5;124mPlease Provide only characters or alphabets \u001b[39m\u001b[38;5;124m\"\u001b[39m)\n",
      "\u001b[0;31mTypeError\u001b[0m: Please Provide only characters or alphabets "
     ]
    }
   ],
   "source": [
    "## example to demonstrate raise keyword\n",
    "x = 1\n",
    "\n",
    "if type(x) == int :\n",
    "    raise TypeError(\"Please Provide only characters or alphabets \")"
   ]
  },
  {
   "cell_type": "markdown",
   "id": "38ec321c-1892-4552-98c9-bd4fad8625a7",
   "metadata": {},
   "source": [
    "### 5 . Custom Exception and its need with Example"
   ]
  },
  {
   "cell_type": "markdown",
   "id": "edef8ea3-f014-4ec8-a311-7ddfa0860446",
   "metadata": {},
   "source": [
    "Custom exception are user defined and are used by invoking an existing function and adding special conditions as per need inside a class."
   ]
  },
  {
   "cell_type": "markdown",
   "id": "b37b32f0-2e2d-4b16-b6f5-9f62f15199e8",
   "metadata": {},
   "source": [
    "Need of custom Exception :-\n",
    "\n",
    "Exception are occured when there is a event error in program that disrupts normal flow.\n",
    "however there are certain special cases where even if theoretically the program is exception free.\n",
    "it is still not suitable for real world usage.\n",
    "\n",
    "example :=\n",
    "\n",
    "age is an integer and if we leave it as it is , some user can enter 200 as age which is not possible in todays world.but the program still accepts is because its an integer value.hence to avoid similar logical error we need Custom exceptions to define what we want to handle the errors."
   ]
  },
  {
   "cell_type": "code",
   "execution_count": 18,
   "id": "323d07fc-e545-4762-b060-d3ac9a8576bc",
   "metadata": {},
   "outputs": [
    {
     "name": "stdin",
     "output_type": "stream",
     "text": [
      "enter your age 10\n"
     ]
    },
    {
     "name": "stdout",
     "output_type": "stream",
     "text": [
      "You are not eligible\n"
     ]
    }
   ],
   "source": [
    "## Example of custom exception\n",
    "## creating a custom exception using class\n",
    "class custom_error(Exception):\n",
    "    pass\n",
    "\n",
    "try:\n",
    "    age=int(input(\"enter your age\"))\n",
    "    if age < 18:\n",
    "        raise custom_error(\"You are not eligible\") ## using raise to raise the custom exception\n",
    "    else:\n",
    "        print(\"you are eligible\")\n",
    "except custom_error as e: ## using handling statement to hanlde the error\n",
    "    print(e)"
   ]
  },
  {
   "cell_type": "markdown",
   "id": "4cfb567d-2184-482c-b7e1-7622fac72bd0",
   "metadata": {},
   "source": [
    "### 5 . Creating a custom Exception class and using it"
   ]
  },
  {
   "cell_type": "code",
   "execution_count": 20,
   "id": "4055d921-a2f2-4b9f-95df-b88146f0a79f",
   "metadata": {},
   "outputs": [],
   "source": [
    "## creating class with custom exception\n",
    "class custom_exception(Exception):\n",
    "    pass\n",
    "\n",
    "## creating a function with custom exception\n",
    "def salary_check(sal):\n",
    "    if sal < 500:\n",
    "        raise custom_exception(\"Salary too low\")\n",
    "    elif sal >= 500 and sal <= 1000:\n",
    "        raise custom_exception(\"eligible for 3% interest\")\n",
    "    else:\n",
    "        print(\"Eligible for 5% interest\")"
   ]
  },
  {
   "cell_type": "code",
   "execution_count": 23,
   "id": "1403f9f0-484d-44ea-956e-4829216220a0",
   "metadata": {},
   "outputs": [
    {
     "name": "stdin",
     "output_type": "stream",
     "text": [
      "Enter your salary in dollars 800\n"
     ]
    },
    {
     "name": "stdout",
     "output_type": "stream",
     "text": [
      "eligible for 3% interest\n"
     ]
    }
   ],
   "source": [
    "## testing the custom exception using try block\n",
    "try:\n",
    "    sal = int(input(\"Enter your salary in dollars\"))\n",
    "    salary_check(sal)\n",
    "except custom_exception as e:\n",
    "    print(e)"
   ]
  }
 ],
 "metadata": {
  "kernelspec": {
   "display_name": "Python 3 (ipykernel)",
   "language": "python",
   "name": "python3"
  },
  "language_info": {
   "codemirror_mode": {
    "name": "ipython",
    "version": 3
   },
   "file_extension": ".py",
   "mimetype": "text/x-python",
   "name": "python",
   "nbconvert_exporter": "python",
   "pygments_lexer": "ipython3",
   "version": "3.10.8"
  }
 },
 "nbformat": 4,
 "nbformat_minor": 5
}

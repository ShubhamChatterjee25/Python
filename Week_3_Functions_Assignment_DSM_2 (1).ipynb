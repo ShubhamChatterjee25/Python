{
 "cells": [
  {
   "cell_type": "markdown",
   "id": "e56c0fbf-1a94-4964-8a2d-389a7359a8f2",
   "metadata": {},
   "source": [
    "### 1 . Function keyword and  function to find odd numbers in given range"
   ]
  },
  {
   "cell_type": "code",
   "execution_count": 2,
   "id": "8cc78a1b-acb7-47da-b6ec-c831f48b8aa2",
   "metadata": {},
   "outputs": [],
   "source": [
    "## to define a funtion we use \"def\" keyword\n",
    "## for example \n",
    "\n",
    "def test():\n",
    "    pass"
   ]
  },
  {
   "cell_type": "code",
   "execution_count": 9,
   "id": "efbddcba-8db8-4a40-bf0e-7f27ef508a46",
   "metadata": {},
   "outputs": [],
   "source": [
    "## Creating a function to give list of ODD numbers in range 1 to 25\n",
    "\n",
    "def test1():\n",
    "    ## creating empty list to store result\n",
    "    l = [] \n",
    "    ## for loop to iterate through given range(1,25)\n",
    "    for i in range(1,25):\n",
    "        ## condition to check number is odd or not\n",
    "        if i % 2 != 0:\n",
    "            l.append(i)\n",
    "    return l"
   ]
  },
  {
   "cell_type": "code",
   "execution_count": 10,
   "id": "6c08beb6-aa21-4528-a74a-15b035b67a15",
   "metadata": {},
   "outputs": [
    {
     "data": {
      "text/plain": [
       "[1, 3, 5, 7, 9, 11, 13, 15, 17, 19, 21, 23]"
      ]
     },
     "execution_count": 10,
     "metadata": {},
     "output_type": "execute_result"
    }
   ],
   "source": [
    "test1()"
   ]
  },
  {
   "cell_type": "markdown",
   "id": "086f914c-0eb7-4def-930e-3de72178f455",
   "metadata": {},
   "source": [
    "### 2 . *args, **kwargs and thier function"
   ]
  },
  {
   "cell_type": "markdown",
   "id": "ff67e0e6-8794-4d7f-bdbf-654ef23de14f",
   "metadata": {},
   "source": [
    "When we define a function, the arguements are given out manually, then it is limited to no.of arguments provided. \n",
    "\n",
    "This is will not be ideal in real world scenario where usually data scientists are expected to handle huge amounts of data. \n",
    "\n",
    "To go overcome this problem we use \" *args \" and \" **kwargs \" as placeholders, these enables the programmer to use arguments for that function without limits\n",
    "\n",
    "The \" * \" aesterisk symbol is important to implement this feature. args,kwargs are not keywords"
   ]
  },
  {
   "cell_type": "code",
   "execution_count": 11,
   "id": "0287f53e-8cfa-4149-bfe5-9ee5d84a8360",
   "metadata": {},
   "outputs": [],
   "source": [
    "## Creating function for *args and **kwargs"
   ]
  },
  {
   "cell_type": "markdown",
   "id": "bbb581a4-0453-435a-b846-f51532ce56e8",
   "metadata": {},
   "source": [
    "##### 1. *args"
   ]
  },
  {
   "cell_type": "code",
   "execution_count": 13,
   "id": "7341e699-36af-443d-ad8a-ea57db975ebd",
   "metadata": {},
   "outputs": [],
   "source": [
    "def test3(*args):\n",
    "    return args    "
   ]
  },
  {
   "cell_type": "code",
   "execution_count": 15,
   "id": "01959d24-993d-46a7-8c79-d4e3b2187663",
   "metadata": {},
   "outputs": [
    {
     "data": {
      "text/plain": [
       "(1, 2, 'Pwskills')"
      ]
     },
     "execution_count": 15,
     "metadata": {},
     "output_type": "execute_result"
    }
   ],
   "source": [
    "test3(1,2,\"Pwskills\") "
   ]
  },
  {
   "cell_type": "code",
   "execution_count": 16,
   "id": "14ae70da-1e69-46da-9119-810ec1c13b65",
   "metadata": {},
   "outputs": [
    {
     "data": {
      "text/plain": [
       "(25.67, [1, 2, 4])"
      ]
     },
     "execution_count": 16,
     "metadata": {},
     "output_type": "execute_result"
    }
   ],
   "source": [
    "test3(25.67,[1,2,4])"
   ]
  },
  {
   "cell_type": "markdown",
   "id": "5d7163c9-725e-4cbb-a342-0f3e70bbb2fe",
   "metadata": {},
   "source": [
    "##### 2. **kwargs"
   ]
  },
  {
   "cell_type": "code",
   "execution_count": 18,
   "id": "ddf20181-d99b-4dc5-956e-133f42c87676",
   "metadata": {},
   "outputs": [],
   "source": [
    "## difference betweeek kwargs and args is that kwargs returns key,value pairs\n",
    "def test4(**kwargs):\n",
    "    return kwargs"
   ]
  },
  {
   "cell_type": "code",
   "execution_count": 19,
   "id": "f8cbf3cf-293a-438f-b835-1b38635a0461",
   "metadata": {},
   "outputs": [
    {
     "data": {
      "text/plain": [
       "{'a': 1, 'b': [1, 2, 3], 'c': 25.67, 'd': 'Pwskills'}"
      ]
     },
     "execution_count": 19,
     "metadata": {},
     "output_type": "execute_result"
    }
   ],
   "source": [
    "test4(a=1,b=[1,2,3],c=25.67,d='Pwskills')"
   ]
  },
  {
   "cell_type": "markdown",
   "id": "5ff51a5d-fad9-43c5-ad75-4c9aed1120a2",
   "metadata": {},
   "source": [
    "### 3 . Iterator, its methods, printing out first elements"
   ]
  },
  {
   "cell_type": "markdown",
   "id": "d770e192-953e-4af4-9605-34c600959f5b",
   "metadata": {},
   "source": [
    "An iterator is an object that contains countable number of values.\n",
    "it is an object that can be iterated upon, meaning you can transerve through elements one by one.\n",
    "\n",
    "iterator in python contains 2 methods \n",
    "\n",
    "- iter () , iters thorught elements one by one\n",
    "- next () , proceeds to next element after previous one"
   ]
  },
  {
   "cell_type": "code",
   "execution_count": 8,
   "id": "3686fb18-46ac-4ade-a348-e45af96132bf",
   "metadata": {},
   "outputs": [
    {
     "name": "stdout",
     "output_type": "stream",
     "text": [
      "2\n",
      "4\n",
      "6\n",
      "8\n",
      "10\n"
     ]
    }
   ],
   "source": [
    "#### using iter() and next() methods to display 5 elements of a list\n",
    "l = [2,4,6,8,10,12,14,16,18,20]\n",
    "\n",
    "## creating variable to store iterated items\n",
    "my_it = iter(l)\n",
    "\n",
    "## printing out the 5 elements using next method\n",
    "print(next(my_it))\n",
    "print(next(my_it))\n",
    "print(next(my_it))\n",
    "print(next(my_it))\n",
    "print(next(my_it))\n",
    "    "
   ]
  },
  {
   "cell_type": "markdown",
   "id": "454e6cd9-8c57-409d-abc7-1b62da2c5ad6",
   "metadata": {},
   "source": [
    "### 4 . Generator Function , Yield keyword and Example"
   ]
  },
  {
   "cell_type": "markdown",
   "id": "c7a97934-728f-496c-b922-248635eaf231",
   "metadata": {},
   "source": [
    "In python a generator is a funtion that returns an iterator that returns a value when iterated over \n",
    "\n",
    "Generators are useful when we want to produce large seqeunce of values, but we dont want to store all of them in memory at once"
   ]
  },
  {
   "cell_type": "code",
   "execution_count": 2,
   "id": "b130f613-2ddf-4aad-8eb7-e6d7bd326c64",
   "metadata": {},
   "outputs": [],
   "source": [
    "## creating generator funtion \n",
    "## it is same as defining a function\n",
    "def generator_name(*args):\n",
    "    \n",
    "    ## here yield keyword is used to produce value from generator\n",
    "    yield something \n",
    "    "
   ]
  },
  {
   "cell_type": "markdown",
   "id": "5a06cb88-e83f-4c93-8ee9-ad24feeb5f81",
   "metadata": {},
   "source": [
    "When generator is called, it does not excute the function body immediately, it will return an\n",
    "generator object that can iterate and produce value.\n",
    "\n",
    "The \"yield\" keyword is used to produce a value form generator and pause the generator functio's execution until next value is requested."
   ]
  },
  {
   "cell_type": "code",
   "execution_count": 3,
   "id": "2fd2d6b6-e829-449e-bc93-2c102408f5fa",
   "metadata": {},
   "outputs": [],
   "source": [
    "## example of generator function \n",
    "## creating generator function to give fibonacci series \n",
    "def fibo(n):\n",
    "    a,b=0,1\n",
    "    for i in range(n):\n",
    "        yield a\n",
    "        a,b=b,a+b\n"
   ]
  },
  {
   "cell_type": "code",
   "execution_count": 4,
   "id": "c68d8bdb-6773-4a6a-9732-b62f1e9bb97d",
   "metadata": {},
   "outputs": [
    {
     "name": "stdout",
     "output_type": "stream",
     "text": [
      "0\n",
      "1\n",
      "1\n",
      "2\n",
      "3\n",
      "5\n",
      "8\n",
      "13\n",
      "21\n",
      "34\n"
     ]
    }
   ],
   "source": [
    "## writing for loop to call generator funtion\n",
    "for i in fibo(10):\n",
    "    print(i)"
   ]
  },
  {
   "cell_type": "markdown",
   "id": "cdf770dd-4421-41e3-8f0c-b4d422072fff",
   "metadata": {},
   "source": [
    "### 5 . Creating generator function and using next() method"
   ]
  },
  {
   "cell_type": "code",
   "execution_count": 6,
   "id": "ff92c9ba-84e7-4fa0-8069-dc7ab2a5da36",
   "metadata": {},
   "outputs": [],
   "source": [
    "## generator function for prime numbers less than 1000\n",
    "def generate_prime():\n",
    "    num = 2\n",
    "    while True:\n",
    "    ## calling the is_prime function to find prime number      \n",
    "        if is_prime(num): \n",
    "            ## using yield to yield num value out of generator\n",
    "            yield num\n",
    "            \n",
    "        num += 1\n",
    "        \n",
    "## declaring new funtion to return True if it is a prime number      \n",
    "def is_prime(n):\n",
    "    if n < 2:\n",
    "        return False\n",
    "    ## for loop to  find prime numbers\n",
    "    for i in range(2,int(n**0.5)+1):\n",
    "        if n%i == 0:\n",
    "            return False\n",
    "    ## returns true to the generator function    \n",
    "    return True\n",
    "        \n",
    "    \n",
    "            "
   ]
  },
  {
   "cell_type": "code",
   "execution_count": 8,
   "id": "8e648849-13ed-432f-ad8a-54ed366fd21b",
   "metadata": {},
   "outputs": [
    {
     "name": "stdout",
     "output_type": "stream",
     "text": [
      "2\n",
      "3\n",
      "5\n",
      "7\n",
      "11\n",
      "13\n",
      "17\n",
      "19\n",
      "23\n",
      "29\n",
      "31\n",
      "37\n",
      "41\n",
      "43\n",
      "47\n",
      "53\n",
      "59\n",
      "61\n",
      "67\n",
      "71\n"
     ]
    }
   ],
   "source": [
    "## storing function in variable\n",
    "prime_gen = generate_prime()\n",
    "\n",
    "## calling the generator funtion to print first 20 primes numbers using next()\n",
    "for i in range(20):\n",
    "    print(next(prime_gen))"
   ]
  },
  {
   "cell_type": "markdown",
   "id": "2b5af911-c18c-4f07-9fa9-3e5478e7dc21",
   "metadata": {},
   "source": [
    "### - END - "
   ]
  },
  {
   "cell_type": "code",
   "execution_count": null,
   "id": "17878bf4-6ca0-4862-b251-34d0586ce33c",
   "metadata": {},
   "outputs": [],
   "source": []
  },
  {
   "cell_type": "code",
   "execution_count": null,
   "id": "1f6c8980-fd5c-4940-9b2d-672b92e7cc50",
   "metadata": {},
   "outputs": [],
   "source": []
  }
 ],
 "metadata": {
  "kernelspec": {
   "display_name": "Python 3 (ipykernel)",
   "language": "python",
   "name": "python3"
  },
  "language_info": {
   "codemirror_mode": {
    "name": "ipython",
    "version": 3
   },
   "file_extension": ".py",
   "mimetype": "text/x-python",
   "name": "python",
   "nbconvert_exporter": "python",
   "pygments_lexer": "ipython3",
   "version": "3.10.8"
  }
 },
 "nbformat": 4,
 "nbformat_minor": 5
}

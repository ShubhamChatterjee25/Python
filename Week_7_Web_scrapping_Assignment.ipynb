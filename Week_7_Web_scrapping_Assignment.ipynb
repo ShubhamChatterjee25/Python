{
 "cells": [
  {
   "cell_type": "markdown",
   "id": "12c07d92-7db2-4eae-85cf-16b5e7cc76cb",
   "metadata": {},
   "source": [
    "### 1 . What is webscrapping ? why is it used ? and three areas its used ?"
   ]
  },
  {
   "cell_type": "markdown",
   "id": "9789e7fe-7063-4dee-916a-dec2fb045509",
   "metadata": {},
   "source": [
    "##### Web Scrapping : \n",
    "- web scrapping, web harvesting or web harvesting is data scrapping used for extracting data from websites. web scrapping software may directly access world wide web (www) through hypertext transfer protocol or web browser. "
   ]
  },
  {
   "cell_type": "markdown",
   "id": "46a453d8-96b3-4394-91ef-7c648e209702",
   "metadata": {},
   "source": [
    "##### Why is Web scrapping used ?\n",
    "- we use web scrapping to parse HTML, XML while also automating the retrival of large volumes of data from websites. web scrapping can also be used to periodically extract data of products from various e-commerce websites. product details like price,description,images,reviews,ratings can be extracted using a web scrapping software. "
   ]
  },
  {
   "cell_type": "markdown",
   "id": "1221f39f-54c4-4b49-ba7d-f58696bc610f",
   "metadata": {},
   "source": [
    "##### Three Areas web scrapping is used to get data :\n",
    "1. Amazon\n",
    "2. Google\n",
    "3. Wikipedia"
   ]
  },
  {
   "cell_type": "markdown",
   "id": "1b7fa721-d8ee-4e18-af1e-ede62501dff0",
   "metadata": {},
   "source": [
    "### 2 . What are different methods used for webscrapping ?"
   ]
  },
  {
   "cell_type": "markdown",
   "id": "48dab9c4-6ee4-4248-82c0-e9dfcb165f99",
   "metadata": {},
   "source": [
    "##### Common techniques used for web scrapping are :\n",
    "\n",
    "1. Human copy and paste \n",
    "2. Text pattern Matching\n",
    "3. HTTP programming\n",
    "4. HTML parsing\n",
    "5. DOM parsing\n",
    "6. Vertical aggregation\n",
    "7. Semantic annotation recognizing\n",
    "8. Computer vision web-page analysis."
   ]
  },
  {
   "cell_type": "markdown",
   "id": "28e28323-c388-4e7e-a33b-c646b88e8211",
   "metadata": {},
   "source": [
    "### 3 . What is Beautiful Soup ? and why is it used ?"
   ]
  },
  {
   "cell_type": "markdown",
   "id": "d33522e4-e924-4e51-bd72-fbca095898c7",
   "metadata": {},
   "source": [
    "##### Beautful Soup :\n",
    "\n",
    "- Beaufiful Soup is a python package for parsing HTML and XML documents. it creates a parse tree for parsed pages that can be used to extract data from HTML, which is useful for webscrapping. "
   ]
  },
  {
   "cell_type": "markdown",
   "id": "d021f9d5-683e-481a-a930-d858b7969e9d",
   "metadata": {},
   "source": [
    "##### Why is it used ?\n",
    "\n",
    "- Beautiful Soup is a python library that makes it easy to scrape information from web pages. it sits on top of HTML or XML parser and provides pythonic idioms for iterating,searching and modifying the parse tree."
   ]
  },
  {
   "cell_type": "markdown",
   "id": "58070922-7c99-4d53-b4de-9c9adf0be466",
   "metadata": {},
   "source": [
    "###  4 . Why is Flask used in web scrapping project ?"
   ]
  },
  {
   "cell_type": "markdown",
   "id": "4037fa51-fddd-43d8-a83e-53cd3bd08599",
   "metadata": {},
   "source": [
    "-  Flask is a lightweight framework to build websites. we will use this to parse our collected data and display it as HTML in a new HTML file. The requests module allows us to send http requests to the website we want to scrape.\n",
    "\n",
    "- Routing and URL mapping, Flask provides flexibile routing system that allows you to map URL to specific functions or views. \n",
    "\n",
    "- Templating engine, flask comes with built in templating engine called jinja2, which allows to dynamically generate HTML content based on your scrapped data."
   ]
  },
  {
   "cell_type": "markdown",
   "id": "bd779f24-60c7-4a9f-8631-f0096bd713ec",
   "metadata": {},
   "source": [
    "### 5 .  What are names of AWS services used and Exaplain each."
   ]
  },
  {
   "cell_type": "markdown",
   "id": "fbdf29df-aebb-4f10-a1be-9cd1b6bb0566",
   "metadata": {},
   "source": [
    "##### AWS services used are :\n",
    "1. CodePipeline\n",
    "2. AWS Elastic Beanstalk \n",
    "    "
   ]
  },
  {
   "cell_type": "markdown",
   "id": "47c917c4-9d8b-467d-8bcf-071053a78de7",
   "metadata": {},
   "source": [
    "##### Uses of Codepipeline :\n",
    "- AWS CodePipeline allows you to integrate third-party developer tools like GitHUb or jenkins into any stage of your release with one click. you can use third-party tools to control, build, test and deployment.\n",
    "\n",
    "- it is a ccontinuous delivery service you can use to model, visualize and automate the steps required to release software. CodePipeline automates the steps required to release you software canges continuously."
   ]
  },
  {
   "cell_type": "markdown",
   "id": "e400a868-467f-4aac-9201-606918ffc954",
   "metadata": {},
   "source": [
    "##### Uses of AWS Elastic Beanstalk:\n",
    "- AWS beanstalk is a service for deploying and scaling web applications and services. Upload your code and Elastic Beanstalk automatically handles the deployment.\n",
    "\n",
    "- it manages process form capacity provisioning, load balancing and auto scaling to application health monitoring"
   ]
  },
  {
   "cell_type": "code",
   "execution_count": null,
   "id": "a26cdca3-059d-48f9-b8ca-8c7718a8ee15",
   "metadata": {},
   "outputs": [],
   "source": []
  }
 ],
 "metadata": {
  "kernelspec": {
   "display_name": "Python 3 (ipykernel)",
   "language": "python",
   "name": "python3"
  },
  "language_info": {
   "codemirror_mode": {
    "name": "ipython",
    "version": 3
   },
   "file_extension": ".py",
   "mimetype": "text/x-python",
   "name": "python",
   "nbconvert_exporter": "python",
   "pygments_lexer": "ipython3",
   "version": "3.10.8"
  }
 },
 "nbformat": 4,
 "nbformat_minor": 5
}

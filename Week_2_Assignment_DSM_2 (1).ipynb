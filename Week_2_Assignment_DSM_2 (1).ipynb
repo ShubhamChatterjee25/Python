{
 "cells": [
  {
   "cell_type": "markdown",
   "id": "b80c598e-5faa-4ae7-980c-5b386e1dfd7d",
   "metadata": {},
   "source": [
    "### 1 . Commenting code in python and its types"
   ]
  },
  {
   "cell_type": "markdown",
   "id": "32caee97-714b-426f-a193-9d7a09dd0fc5",
   "metadata": {},
   "source": [
    "##### Comments in code are used to make the code more understandable and readable to the programmers and also explain/describes the funtionality of the code being written."
   ]
  },
  {
   "cell_type": "markdown",
   "id": "d3360276-d535-4dae-8ab9-c1c588af2365",
   "metadata": {},
   "source": [
    "There are 2 types of comments available \n",
    "          \n",
    "          1) Single line comment\n",
    "          2) Multi Line comment"
   ]
  },
  {
   "cell_type": "markdown",
   "id": "2089263d-c06d-4b3b-831e-1cd8631e7838",
   "metadata": {},
   "source": [
    "1.Single-Line comment:- This uses \"#\" before writing any sentence and can only be used for single line of text as follows"
   ]
  },
  {
   "cell_type": "code",
   "execution_count": 1,
   "id": "8e751a06-4b7b-4316-8103-0ce54788866f",
   "metadata": {},
   "outputs": [],
   "source": [
    "## This is an example of single line comment using \"#\" "
   ]
  },
  {
   "cell_type": "markdown",
   "id": "9bfd4761-8373-4651-8577-42d1bacc9288",
   "metadata": {},
   "source": [
    "2.Multi-Line comment:- this use '''...''' triple quotes and allows users to enter multiple lines of codes as shown below"
   ]
  },
  {
   "cell_type": "code",
   "execution_count": null,
   "id": "690e5d62-ead8-4330-be3d-4921e56a7299",
   "metadata": {},
   "outputs": [],
   "source": [
    "''' This is the example \n",
    "of using multi line\n",
    "comment in python'''"
   ]
  },
  {
   "cell_type": "markdown",
   "id": "ddaed0df-6899-4c76-896c-0c9da1b95a96",
   "metadata": {},
   "source": [
    "### 2 . Variables in python and how to declare them"
   ]
  },
  {
   "cell_type": "markdown",
   "id": "f9d0d9e5-b125-42ec-9b08-a09c810c3fcc",
   "metadata": {},
   "source": [
    "#### Variables are used to store desired data items and can be used to recall the same data at any part of the program using the variable name assigned to it."
   ]
  },
  {
   "cell_type": "markdown",
   "id": "c4f2bc87-11e4-4710-90ce-60fbb84d584c",
   "metadata": {},
   "source": [
    "variable contain a name and a value assigned to it. there are certain rules to be followed to declare a variable without any errors. \n",
    "\n",
    "1) varaible name must not start with a number\n",
    "2) variable name cannot be a predefined funtion name\n",
    "3) special characters are not allowed except '_'\n",
    "4) varaible names must unique incase of multiple varaible declaration"
   ]
  },
  {
   "cell_type": "code",
   "execution_count": 3,
   "id": "75a8944e-a645-4734-84de-0861ff725f0d",
   "metadata": {},
   "outputs": [],
   "source": [
    "## Declaration of a variable\n",
    "\n",
    "name = \"Madhan\"\n",
    "Course = \"Data Science Masters 2.0\"\n",
    "\n",
    "## varibale can store different data types like int,float,string. \n",
    "## incase of a string \" \" or ' ' quotes are used."
   ]
  },
  {
   "cell_type": "markdown",
   "id": "ba7bf5e9-bd37-412e-a39e-8b14cfb79827",
   "metadata": {},
   "source": [
    "### 3 . How to convert one data type to another"
   ]
  },
  {
   "cell_type": "markdown",
   "id": "a7c90b39-7b32-4500-89ea-9307f850a870",
   "metadata": {},
   "source": [
    "#### python uses two types of data conversions"
   ]
  },
  {
   "cell_type": "markdown",
   "id": "03bb5d37-32c3-4899-a25e-b930fdd77f24",
   "metadata": {},
   "source": [
    "1) Implicit Type conversion"
   ]
  },
  {
   "cell_type": "code",
   "execution_count": 13,
   "id": "49ffb286-4943-49c0-9a9d-9165c1572df5",
   "metadata": {},
   "outputs": [
    {
     "data": {
      "text/plain": [
       "(int, float)"
      ]
     },
     "execution_count": 13,
     "metadata": {},
     "output_type": "execute_result"
    }
   ],
   "source": [
    "## python automatically detects the data type\n",
    "a = 5\n",
    "b = 5.0\n",
    "\n",
    "## printing out to check the data types\n",
    "type(a),type(b)"
   ]
  },
  {
   "cell_type": "markdown",
   "id": "caad10a9-36f0-4441-be2a-ca0cc3ec7ac0",
   "metadata": {},
   "source": [
    "2) Explicit Type Conversion"
   ]
  },
  {
   "cell_type": "code",
   "execution_count": 14,
   "id": "838422ae-a114-40a7-91d9-abb500e70244",
   "metadata": {},
   "outputs": [
    {
     "data": {
      "text/plain": [
       "(int, float)"
      ]
     },
     "execution_count": 14,
     "metadata": {},
     "output_type": "execute_result"
    }
   ],
   "source": [
    "## declaring varibale with in data type\n",
    "a1 = 50\n",
    "\n",
    "## using type casting and declaring a new varaible\n",
    "a2 = float(a1)\n",
    "\n",
    "## printing out to check the data types\n",
    "type(a1),type(a2)"
   ]
  },
  {
   "cell_type": "markdown",
   "id": "cc3361ac-0390-4e05-b922-4edf0def02d7",
   "metadata": {},
   "source": [
    "### 4 . Write and Execute python from command line"
   ]
  },
  {
   "cell_type": "markdown",
   "id": "30fe4982-7e84-45ce-aa0e-80f9b2b865c0",
   "metadata": {},
   "source": [
    "- In Windows OS , First click on start and click on run.\n",
    "- Type in 'CMD' and hit Enter on keyboard\n",
    "- The command prompt will open,type python and hit enter to enter into python environment\n",
    "- you might need to install latest python version depending on the version available\n",
    "\n",
    "To run any python script:-\n",
    "- Type in 'Python' in console and mention the '.py' file name present in your computer\n",
    "- Hit Enter to execute the script\n",
    "\n",
    "For example:\n",
    "\n",
    "python example_script.py\n",
    "\n",
    "out put :\n",
    " 'hello world!'"
   ]
  },
  {
   "cell_type": "markdown",
   "id": "41a777d2-92d1-4b32-afca-1f584c866347",
   "metadata": {},
   "source": [
    "### 5 . Slicing a list"
   ]
  },
  {
   "cell_type": "code",
   "execution_count": 21,
   "id": "00dee11b-f345-4e85-bae5-ebaa39f2161b",
   "metadata": {},
   "outputs": [
    {
     "data": {
      "text/plain": [
       "[2, 3]"
      ]
     },
     "execution_count": 21,
     "metadata": {},
     "output_type": "execute_result"
    }
   ],
   "source": [
    "## Given list \n",
    "my_list = [1,2,3,4,5]\n",
    "\n",
    "## Slicing the list using slicing operation to get [2,3]\n",
    "my_list[1:3]"
   ]
  },
  {
   "cell_type": "markdown",
   "id": "5999e381-5136-446c-9b32-578d531c7eee",
   "metadata": {},
   "source": [
    "### 6 . Complex number in python"
   ]
  },
  {
   "cell_type": "markdown",
   "id": "36cbc8a5-64b4-46e5-8999-6d07fe4a5fc3",
   "metadata": {},
   "source": [
    "Complex numbers in math. complex numbers are the numbers that are expressed in the form of \"a+ib\"\n",
    "where a,b are real numbers and 'i' is an imaginary number called \"iota\""
   ]
  },
  {
   "cell_type": "markdown",
   "id": "8783c21f-8db3-4543-a11f-adffb46383d4",
   "metadata": {},
   "source": [
    "Complex numbers in PYTHON. The complex Data type in python consists of two values\n",
    "\n",
    "- first one is real part of the complex number\n",
    "- second part is imaginary part of the complex number\n",
    "\n",
    "it is declared in python as follows"
   ]
  },
  {
   "cell_type": "code",
   "execution_count": 24,
   "id": "a9e0f7da-1352-4aa9-8f08-bdca923ff82a",
   "metadata": {},
   "outputs": [
    {
     "name": "stdout",
     "output_type": "stream",
     "text": [
      "(3+9j) <class 'complex'>\n"
     ]
    }
   ],
   "source": [
    "## declaring complex number\n",
    "num = 3+9j\n",
    "\n",
    "## printing out data type and value \n",
    "print(num, type(num))"
   ]
  },
  {
   "cell_type": "markdown",
   "id": "b381ae98-4c4f-4cd4-a86d-348341fe68e2",
   "metadata": {},
   "source": [
    "### 7 . Declaring Variable and assigning value to it"
   ]
  },
  {
   "cell_type": "code",
   "execution_count": 28,
   "id": "9dc6e787-8532-4fd7-865a-cc9eb95fb011",
   "metadata": {},
   "outputs": [
    {
     "name": "stdout",
     "output_type": "stream",
     "text": [
      "25\n"
     ]
    }
   ],
   "source": [
    "## Declaring a variable called \"age\"\n",
    "## the '=' assignment operator used to assign value \"25\" to the variable \"age\"\n",
    "age = 25\n",
    "\n",
    "## printing the age varaible \n",
    "print(age)"
   ]
  },
  {
   "cell_type": "markdown",
   "id": "ec401c15-a58d-411d-8bdc-147ba547116f",
   "metadata": {},
   "source": [
    "### 8 . Declaring Variable and finding its data type"
   ]
  },
  {
   "cell_type": "code",
   "execution_count": 29,
   "id": "81cd02ca-a591-438d-8b3f-9a4abb93a853",
   "metadata": {},
   "outputs": [
    {
     "data": {
      "text/plain": [
       "float"
      ]
     },
     "execution_count": 29,
     "metadata": {},
     "output_type": "execute_result"
    }
   ],
   "source": [
    "## Declaring variable called \"price\"\n",
    "## the \"=\" assignment operator is used to assign value\n",
    "price = 9.99\n",
    "\n",
    "## finding out the data type of variable \"price\" using type funtion\n",
    "type(price)"
   ]
  },
  {
   "cell_type": "markdown",
   "id": "eb8219ae-8158-4194-b3e9-c46e5b16e614",
   "metadata": {},
   "source": [
    "### 9 . Creating a variable with string value "
   ]
  },
  {
   "cell_type": "code",
   "execution_count": 31,
   "id": "3e752fed-80ef-41c4-a347-dc995d476598",
   "metadata": {},
   "outputs": [
    {
     "name": "stdout",
     "output_type": "stream",
     "text": [
      "Madhusudhan\n"
     ]
    }
   ],
   "source": [
    "## Declaring a variable named \"name\"\n",
    "## assigning value to it using \"=\" operator\n",
    "name = \"Madhusudhan\"\n",
    "\n",
    "## printing out the value of variable \"name\"\n",
    "print(name)"
   ]
  },
  {
   "cell_type": "markdown",
   "id": "be9732b6-26ff-4900-97b1-b13664879868",
   "metadata": {},
   "source": [
    "### 10 . Taking out substring of a string"
   ]
  },
  {
   "cell_type": "code",
   "execution_count": 37,
   "id": "2dcdcf52-96c3-4b75-a896-5d5a8e08e9cb",
   "metadata": {},
   "outputs": [
    {
     "data": {
      "text/plain": [
       "'World'"
      ]
     },
     "execution_count": 37,
     "metadata": {},
     "output_type": "execute_result"
    }
   ],
   "source": [
    "## Declaring a variable with a string value\n",
    "string = \"Hello World!\"\n",
    "\n",
    "## using slicing operation to take a substring or \"string\" varibale\n",
    "string[6:11]"
   ]
  },
  {
   "cell_type": "markdown",
   "id": "9a50a68f-ca85-4a49-a792-0990f5c9ea4b",
   "metadata": {},
   "source": [
    "### 11 . Creating varaible with boolean value"
   ]
  },
  {
   "cell_type": "code",
   "execution_count": 39,
   "id": "f8edc648-1b37-4691-9559-6eb59a722f0c",
   "metadata": {},
   "outputs": [
    {
     "name": "stdout",
     "output_type": "stream",
     "text": [
      "False\n"
     ]
    }
   ],
   "source": [
    "## Declaring a variable with boolean value\n",
    "is_student = False\n",
    "\n",
    "## printing out value if im a student or not \n",
    "print(is_student)"
   ]
  },
  {
   "cell_type": "code",
   "execution_count": null,
   "id": "3a554772-31e6-40bb-b2c1-c3d08e53f197",
   "metadata": {},
   "outputs": [],
   "source": []
  }
 ],
 "metadata": {
  "kernelspec": {
   "display_name": "Python 3 (ipykernel)",
   "language": "python",
   "name": "python3"
  },
  "language_info": {
   "codemirror_mode": {
    "name": "ipython",
    "version": 3
   },
   "file_extension": ".py",
   "mimetype": "text/x-python",
   "name": "python",
   "nbconvert_exporter": "python",
   "pygments_lexer": "ipython3",
   "version": "3.10.8"
  }
 },
 "nbformat": 4,
 "nbformat_minor": 5
}

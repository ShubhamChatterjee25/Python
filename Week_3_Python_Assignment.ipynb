{
 "cells": [
  {
   "cell_type": "markdown",
   "id": "88dd331c-b7f2-4e36-b3f2-6d0aaab805d1",
   "metadata": {},
   "source": [
    "### 1 . Python program to sort tuple based on integer value"
   ]
  },
  {
   "cell_type": "code",
   "execution_count": 12,
   "id": "543ec55f-bad7-4799-b78d-9c2f3dc88b6b",
   "metadata": {},
   "outputs": [],
   "source": [
    "## Given list of tuple\n",
    "lst = [('Sachin Tendulkar', 34357),('Ricky Ponting', 27483),('Jack Kallis', 25534),('Virat Kohli', 24936)]\n",
    "\n",
    "## lambda funtion to sort the list based on int value\n",
    "lst.sort(key = lambda x : x[1])"
   ]
  },
  {
   "cell_type": "code",
   "execution_count": 28,
   "id": "8315fe4c-cd46-4e6f-91e5-cb6187c6db47",
   "metadata": {
    "tags": []
   },
   "outputs": [
    {
     "name": "stdout",
     "output_type": "stream",
     "text": [
      "List after sorting based on integer value : \n",
      " [('Virat Kohli', 24936), ('Jack Kallis', 25534), ('Ricky Ponting', 27483), ('Sachin Tendulkar', 34357)]\n"
     ]
    }
   ],
   "source": [
    "## printing the new sorted list \n",
    "print(\"List after sorting based on integer value : \\n\",lst)\n"
   ]
  },
  {
   "cell_type": "markdown",
   "id": "7dc7ec54-cb3a-4b49-9a22-00382bd99272",
   "metadata": {},
   "source": [
    "### 2 . Finding squares in list using lambda and map funtion"
   ]
  },
  {
   "cell_type": "code",
   "execution_count": 33,
   "id": "5de5da65-8804-4aaf-ac6e-94419094ed79",
   "metadata": {},
   "outputs": [
    {
     "data": {
      "text/plain": [
       "[1, 4, 9, 16, 25, 36, 49, 64, 81, 100]"
      ]
     },
     "execution_count": 33,
     "metadata": {},
     "output_type": "execute_result"
    }
   ],
   "source": [
    "## Given list of integer elements\n",
    "lst1 = [1,2,3,4,5,6,7,8,9,10]\n",
    "\n",
    "## writing lambda funtion with map to find sqaures of \"lst1\"\n",
    "list(map(lambda x : x**2,lst1))"
   ]
  },
  {
   "cell_type": "markdown",
   "id": "db9c6eb3-951a-4aff-ad35-3c60014d4d73",
   "metadata": {},
   "source": [
    "### 3 . Lambda, Map functions to convert list of int to tuple of str"
   ]
  },
  {
   "cell_type": "code",
   "execution_count": 23,
   "id": "e2a9df73-3d3d-4f13-b12a-7412651ec5a9",
   "metadata": {},
   "outputs": [
    {
     "data": {
      "text/plain": [
       "('1', '2', '3', '4', '5', '6', '7', '8', '9', '10')"
      ]
     },
     "execution_count": 23,
     "metadata": {},
     "output_type": "execute_result"
    }
   ],
   "source": [
    "## Given list of integers\n",
    "lst2 = [1,2,3,4,5,6,7,8,9,10]\n",
    "\n",
    "## Lambda and map function to convert lst2 into string of tuple\n",
    "tuple(map(lambda x : str(x),lst2))"
   ]
  },
  {
   "cell_type": "markdown",
   "id": "0bdd24fe-41ea-411f-9621-f32d5c50af9c",
   "metadata": {},
   "source": [
    "### 4 . Finding product of a list using Reduce function"
   ]
  },
  {
   "cell_type": "code",
   "execution_count": 27,
   "id": "4bbe40db-78ad-47e0-abd8-d6921aacb033",
   "metadata": {},
   "outputs": [
    {
     "data": {
      "text/plain": [
       "1410110003939180544000000"
      ]
     },
     "execution_count": 27,
     "metadata": {},
     "output_type": "execute_result"
    }
   ],
   "source": [
    "## importing reduce funtion\n",
    "from functools import reduce\n",
    "\n",
    "## list of integers 1 to 25\n",
    "lst3 = [1,2,3,4,5,6,7,8,9,10,12,13,14,15,16,17,18,19,20,21,22,23,24,25]\n",
    "\n",
    "## using reduce function to find product of \"lst3\"\n",
    "reduce(lambda x,y : x*y , lst3 )"
   ]
  },
  {
   "cell_type": "markdown",
   "id": "8b27fb4d-6079-4db5-ac4e-1c0bff58b09a",
   "metadata": {},
   "source": [
    "### 5 . Writing code to filter list of numbers divisible bt 2,3"
   ]
  },
  {
   "cell_type": "code",
   "execution_count": 30,
   "id": "4abc1d6e-6b7a-4169-9481-6c7d61bb1f99",
   "metadata": {},
   "outputs": [
    {
     "data": {
      "text/plain": [
       "[6, 60, 90, 120]"
      ]
     },
     "execution_count": 30,
     "metadata": {},
     "output_type": "execute_result"
    }
   ],
   "source": [
    "## Given list of numbers is\n",
    "lst4 = [2, 3, 6, 9, 27, 60, 90, 120, 55, 46]\n",
    "\n",
    "## writing filter function dividing list by 2,3\n",
    "list(filter(lambda x : x%2==0 and x%3==0, lst4))"
   ]
  },
  {
   "cell_type": "markdown",
   "id": "3dac3041-b670-4ab1-80b4-a9124d2abbf5",
   "metadata": {},
   "source": [
    "### 6 . Writing Code to find palindromes using lambda and filter funtction"
   ]
  },
  {
   "cell_type": "code",
   "execution_count": 32,
   "id": "2885640a-54a1-478e-9c24-a78482f09b80",
   "metadata": {},
   "outputs": [
    {
     "data": {
      "text/plain": [
       "['php', 'aba', 'radar', 'level']"
      ]
     },
     "execution_count": 32,
     "metadata": {},
     "output_type": "execute_result"
    }
   ],
   "source": [
    "## Given list of strings\n",
    "lst5 = ['python','php','aba','radar','level']\n",
    "\n",
    "## filter function to find palindrome in \"lst5\"\n",
    "list(filter(lambda x : x == x[::-1],lst5))"
   ]
  },
  {
   "cell_type": "code",
   "execution_count": null,
   "id": "7ed4c6d7-f5ff-447d-b005-39ebbddf11aa",
   "metadata": {},
   "outputs": [],
   "source": []
  }
 ],
 "metadata": {
  "kernelspec": {
   "display_name": "Python 3 (ipykernel)",
   "language": "python",
   "name": "python3"
  },
  "language_info": {
   "codemirror_mode": {
    "name": "ipython",
    "version": 3
   },
   "file_extension": ".py",
   "mimetype": "text/x-python",
   "name": "python",
   "nbconvert_exporter": "python",
   "pygments_lexer": "ipython3",
   "version": "3.10.8"
  }
 },
 "nbformat": 4,
 "nbformat_minor": 5
}

{
 "cells": [
  {
   "cell_type": "code",
   "execution_count": 2,
   "id": "0919229b-c5c8-435d-bf7e-d5f8d66ab131",
   "metadata": {},
   "outputs": [],
   "source": [
    "## Given data is as follows :\n",
    "## importing numpy module\n",
    "import numpy as np\n",
    "\n",
    "## given data to solve following questions\n",
    "list_ = ['1','2','3','4','5']\n",
    "array_list = np.array(object=list_)"
   ]
  },
  {
   "cell_type": "markdown",
   "id": "031539b6-462d-4f87-a2e7-3c2a98299f4e",
   "metadata": {},
   "source": [
    "### 1 . Write a code to print data type of both variables "
   ]
  },
  {
   "cell_type": "markdown",
   "id": "b78fcbbf-17af-4bf7-a82a-aef12b88c1dd",
   "metadata": {},
   "source": [
    " - yes, there is a difference between the data types of \"list_\" and \"array_list\". the difference being one is a list type and other is a numpy array with n dimensions.                    we can check them by using \"type()\" like below."
   ]
  },
  {
   "cell_type": "code",
   "execution_count": 3,
   "id": "a8e7129b-aad9-44b8-b90d-eadab8a468fb",
   "metadata": {},
   "outputs": [
    {
     "data": {
      "text/plain": [
       "list"
      ]
     },
     "execution_count": 3,
     "metadata": {},
     "output_type": "execute_result"
    }
   ],
   "source": [
    "## cgecking type of \"list_\" variale\n",
    "type(list_)"
   ]
  },
  {
   "cell_type": "code",
   "execution_count": 6,
   "id": "3c3390a6-b191-455b-a169-a02f97fe3b92",
   "metadata": {},
   "outputs": [
    {
     "data": {
      "text/plain": [
       "numpy.ndarray"
      ]
     },
     "execution_count": 6,
     "metadata": {},
     "output_type": "execute_result"
    }
   ],
   "source": [
    "## checking type of \"array_list\" variable\n",
    "type(array_list)"
   ]
  },
  {
   "cell_type": "markdown",
   "id": "f2a978f1-a086-4a52-bfbf-ff7685a969ed",
   "metadata": {},
   "source": [
    "### 2 . Write code to print each and every element of both variables"
   ]
  },
  {
   "cell_type": "code",
   "execution_count": 5,
   "id": "d623a996-42ef-4300-800e-ed4fc0f19c3c",
   "metadata": {},
   "outputs": [
    {
     "data": {
      "text/plain": [
       "['1', '2', '3', '4', '5']"
      ]
     },
     "execution_count": 5,
     "metadata": {},
     "output_type": "execute_result"
    }
   ],
   "source": [
    "## given variables are \n",
    "list_"
   ]
  },
  {
   "cell_type": "code",
   "execution_count": 6,
   "id": "d302c4f5-0d4f-4bed-ac4a-b6440947e543",
   "metadata": {},
   "outputs": [
    {
     "name": "stdout",
     "output_type": "stream",
     "text": [
      "<class 'str'>\n",
      "<class 'str'>\n",
      "<class 'str'>\n",
      "<class 'str'>\n",
      "<class 'str'>\n"
     ]
    }
   ],
   "source": [
    "## print all elements data types\n",
    "for i in list_:\n",
    "    print(type(i))"
   ]
  },
  {
   "cell_type": "code",
   "execution_count": 7,
   "id": "1e544301-a6b4-489f-901e-0c5483b74b5a",
   "metadata": {},
   "outputs": [
    {
     "data": {
      "text/plain": [
       "array(['1', '2', '3', '4', '5'], dtype='<U1')"
      ]
     },
     "execution_count": 7,
     "metadata": {},
     "output_type": "execute_result"
    }
   ],
   "source": [
    "## second variable\n",
    "array_list"
   ]
  },
  {
   "cell_type": "code",
   "execution_count": 8,
   "id": "f1ccc242-b8d6-413e-88bb-2d489d1d9410",
   "metadata": {},
   "outputs": [
    {
     "name": "stdout",
     "output_type": "stream",
     "text": [
      "<class 'numpy.str_'>\n",
      "<class 'numpy.str_'>\n",
      "<class 'numpy.str_'>\n",
      "<class 'numpy.str_'>\n",
      "<class 'numpy.str_'>\n"
     ]
    }
   ],
   "source": [
    "## print data type of all elements\n",
    "for i in array_list:\n",
    "    print(type(i))"
   ]
  },
  {
   "cell_type": "markdown",
   "id": "d3e2e7c6-1b89-42a7-9135-9ea162897e57",
   "metadata": {},
   "source": [
    "### 3 . Considering the following change, print data types of changed variables"
   ]
  },
  {
   "cell_type": "code",
   "execution_count": 14,
   "id": "21b96524-46fd-4328-81fd-f8e17c4b8327",
   "metadata": {},
   "outputs": [],
   "source": [
    "## given change in \"array_list\" are\n",
    "array_list = np.array(object=list_,dtype= int)"
   ]
  },
  {
   "cell_type": "code",
   "execution_count": 10,
   "id": "2bf7cde5-5b69-4293-8409-f7aa1ec15011",
   "metadata": {},
   "outputs": [
    {
     "data": {
      "text/plain": [
       "list"
      ]
     },
     "execution_count": 10,
     "metadata": {},
     "output_type": "execute_result"
    }
   ],
   "source": [
    "## checking change of data type of both variables\n",
    "type(list_)"
   ]
  },
  {
   "cell_type": "code",
   "execution_count": 11,
   "id": "9edc3d65-f06c-4c54-83ed-64dc5e35636a",
   "metadata": {},
   "outputs": [
    {
     "data": {
      "text/plain": [
       "numpy.ndarray"
      ]
     },
     "execution_count": 11,
     "metadata": {},
     "output_type": "execute_result"
    }
   ],
   "source": [
    "type(array_list)"
   ]
  },
  {
   "cell_type": "markdown",
   "id": "7ef84569-4fdb-4c57-a81b-c46bed73ebbe",
   "metadata": {},
   "source": [
    "- NO, there was no change in data type of the varaibles themselves."
   ]
  },
  {
   "cell_type": "code",
   "execution_count": 17,
   "id": "784c844e-6ac0-4200-9c54-036604101f5c",
   "metadata": {},
   "outputs": [
    {
     "name": "stdout",
     "output_type": "stream",
     "text": [
      "<class 'str'>\n",
      "<class 'str'>\n",
      "<class 'str'>\n",
      "<class 'str'>\n",
      "<class 'str'>\n"
     ]
    }
   ],
   "source": [
    "## print out data type of each and every element in both varaibles\n",
    "for i in list_:\n",
    "    print(type(i))"
   ]
  },
  {
   "cell_type": "code",
   "execution_count": 16,
   "id": "d0bda93d-af92-4cc4-bbf4-221dd4c92cb3",
   "metadata": {},
   "outputs": [
    {
     "name": "stdout",
     "output_type": "stream",
     "text": [
      "<class 'numpy.int64'>\n",
      "<class 'numpy.int64'>\n",
      "<class 'numpy.int64'>\n",
      "<class 'numpy.int64'>\n",
      "<class 'numpy.int64'>\n"
     ]
    }
   ],
   "source": [
    "for i in array_list:\n",
    "    print(type(i))"
   ]
  },
  {
   "cell_type": "markdown",
   "id": "0c2369ac-e98e-4725-9279-301829e01403",
   "metadata": {},
   "source": [
    "- there is a change in data type of elements in \"array_list\" varibale from \"string\" to \"int64\""
   ]
  },
  {
   "cell_type": "markdown",
   "id": "95e93743-fe8b-475e-a06c-af950c0c6ec1",
   "metadata": {},
   "source": [
    "### Consider Following for further questions:"
   ]
  },
  {
   "cell_type": "code",
   "execution_count": 18,
   "id": "31fa625f-8d97-4055-9eba-c092cb821c38",
   "metadata": {},
   "outputs": [],
   "source": [
    "import numpy as np\n",
    "num_list = [[1,2,3],[4,5,6]]\n",
    "num_array = np.array(object=num_list)"
   ]
  },
  {
   "cell_type": "markdown",
   "id": "df98d8b3-c2bd-4fd7-a109-a25335d9c39b",
   "metadata": {},
   "source": [
    "### 4 . Write code to find shape,size of variable \"num_array\""
   ]
  },
  {
   "cell_type": "code",
   "execution_count": 21,
   "id": "30e12483-4383-4544-9947-eb6899d8684a",
   "metadata": {},
   "outputs": [
    {
     "data": {
      "text/plain": [
       "(2, 3)"
      ]
     },
     "execution_count": 21,
     "metadata": {},
     "output_type": "execute_result"
    }
   ],
   "source": [
    "## finding shape of \"num_array\"\n",
    "num_array.shape"
   ]
  },
  {
   "cell_type": "code",
   "execution_count": 22,
   "id": "b686a229-6a05-4af3-9042-1e288562f266",
   "metadata": {},
   "outputs": [
    {
     "data": {
      "text/plain": [
       "6"
      ]
     },
     "execution_count": 22,
     "metadata": {},
     "output_type": "execute_result"
    }
   ],
   "source": [
    "## finding size of variable \"num_array\"\n",
    "num_array.size"
   ]
  },
  {
   "cell_type": "markdown",
   "id": "75e049f8-36e3-4d05-bc77-7846dfeb8258",
   "metadata": {},
   "source": [
    "1. Shape of \"num_array\" is variable is    (2,3) or 2X3\n",
    "2. Size of \"num_array\" variable is    6"
   ]
  },
  {
   "cell_type": "markdown",
   "id": "5742c329-648c-4491-b6b5-29a66b595a10",
   "metadata": {},
   "source": [
    "### 5 . Write a code to create 3X3 matrix containing only zeros"
   ]
  },
  {
   "cell_type": "code",
   "execution_count": 25,
   "id": "069d0495-882a-4ae4-83be-5c22f3346047",
   "metadata": {},
   "outputs": [],
   "source": [
    "## creating matrix of 3x3 usinh \".mat\" and \".zeros\" for data\n",
    "arr = np.mat(np.zeros((3,3)))"
   ]
  },
  {
   "cell_type": "code",
   "execution_count": 31,
   "id": "3444b879-9f89-44a6-857e-40b982191474",
   "metadata": {},
   "outputs": [
    {
     "data": {
      "text/plain": [
       "matrix([[0., 0., 0.],\n",
       "        [0., 0., 0.],\n",
       "        [0., 0., 0.]])"
      ]
     },
     "execution_count": 31,
     "metadata": {},
     "output_type": "execute_result"
    }
   ],
   "source": [
    "## displaying the matrix\n",
    "arr"
   ]
  },
  {
   "cell_type": "code",
   "execution_count": 29,
   "id": "2c0a703c-761d-49e9-86ae-1ab955dd321a",
   "metadata": {},
   "outputs": [
    {
     "data": {
      "text/plain": [
       "(3, 3)"
      ]
     },
     "execution_count": 29,
     "metadata": {},
     "output_type": "execute_result"
    }
   ],
   "source": [
    "## shapre of the matrix\n",
    "arr.shape"
   ]
  },
  {
   "cell_type": "code",
   "execution_count": 30,
   "id": "df86b2a2-d500-4d59-a6be-7b3e03efad7b",
   "metadata": {},
   "outputs": [
    {
     "data": {
      "text/plain": [
       "9"
      ]
     },
     "execution_count": 30,
     "metadata": {},
     "output_type": "execute_result"
    }
   ],
   "source": [
    "## size of the matrix\n",
    "arr.size"
   ]
  },
  {
   "cell_type": "markdown",
   "id": "7f3d72f8-1a4e-4231-b372-218c2b0749d2",
   "metadata": {},
   "source": [
    "### 6 . Create an Identity matrix of (5,5) using numpy functions"
   ]
  },
  {
   "cell_type": "code",
   "execution_count": 35,
   "id": "246a2997-b56c-42f4-a607-8afb74984bd8",
   "metadata": {},
   "outputs": [],
   "source": [
    "## creating identity matrix of 5x5\n",
    "arr1 = np.eye(5)"
   ]
  },
  {
   "cell_type": "code",
   "execution_count": 36,
   "id": "660129e3-f9de-4a09-b7a7-2680101b552a",
   "metadata": {},
   "outputs": [
    {
     "data": {
      "text/plain": [
       "array([[1., 0., 0., 0., 0.],\n",
       "       [0., 1., 0., 0., 0.],\n",
       "       [0., 0., 1., 0., 0.],\n",
       "       [0., 0., 0., 1., 0.],\n",
       "       [0., 0., 0., 0., 1.]])"
      ]
     },
     "execution_count": 36,
     "metadata": {},
     "output_type": "execute_result"
    }
   ],
   "source": [
    "## displaying the matrix\n",
    "arr1"
   ]
  },
  {
   "cell_type": "code",
   "execution_count": 37,
   "id": "c832dbd8-9d30-4a65-b252-7e854e2d6844",
   "metadata": {},
   "outputs": [
    {
     "data": {
      "text/plain": [
       "(5, 5)"
      ]
     },
     "execution_count": 37,
     "metadata": {},
     "output_type": "execute_result"
    }
   ],
   "source": [
    "## shape of the identity matrix\n",
    "arr1.shape"
   ]
  }
 ],
 "metadata": {
  "kernelspec": {
   "display_name": "Python 3 (ipykernel)",
   "language": "python",
   "name": "python3"
  },
  "language_info": {
   "codemirror_mode": {
    "name": "ipython",
    "version": 3
   },
   "file_extension": ".py",
   "mimetype": "text/x-python",
   "name": "python",
   "nbconvert_exporter": "python",
   "pygments_lexer": "ipython3",
   "version": "3.10.8"
  }
 },
 "nbformat": 4,
 "nbformat_minor": 5
}

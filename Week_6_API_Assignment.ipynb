{
 "cells": [
  {
   "cell_type": "markdown",
   "id": "67cab1b3-f382-475c-896c-f340f2cd92b2",
   "metadata": {},
   "source": [
    "### 1 . What is an API with an example and Where is it used ?"
   ]
  },
  {
   "cell_type": "markdown",
   "id": "f39a56bd-ebcb-46eb-8e04-7920dc61dca8",
   "metadata": {},
   "source": [
    "##### API (Application Program interface):\n",
    "- An API is a way for two or more computer programming to communicate with each other using set of protocols. API's are an accessible way to extract and share data within and across organizations.      \n",
    "    "
   ]
  },
  {
   "cell_type": "markdown",
   "id": "b207fb2e-cc00-44eb-8ec5-cee2ac9784a0",
   "metadata": {},
   "source": [
    "Examples of API :\n",
    "\n",
    "1. Google Maps API\n",
    "2. Twitter API\n",
    "3. Weather data API"
   ]
  },
  {
   "cell_type": "markdown",
   "id": "2b16bed1-0202-4774-bcce-13b347ea6ca7",
   "metadata": {},
   "source": [
    "-  It is used in more places where there is a lot of user engagement and where there is a need of combining two or more programmming languages. "
   ]
  },
  {
   "cell_type": "markdown",
   "id": "a80d9917-a491-430a-bdca-94e29571e3f7",
   "metadata": {},
   "source": [
    "### 2 . Advantages and DIsadvantages of API"
   ]
  },
  {
   "cell_type": "markdown",
   "id": "078d7b11-1f5d-46ed-8821-129ab24a3c43",
   "metadata": {},
   "source": [
    "|       Advantages of API      |       Disadvantages of API          |\n",
    "|------------------------------|-------------------------------------|\n",
    "|1. Increased interoperability, API enables different software system to communicate regardless of their programming language or platform | 1. Security concerns, API can be vulnerable to security breaches such as SQL injection attacks. |\n",
    "|2. Improves efficiency, Api driven infrastructure enables developers to reuse code and functionality with existing software systems | 2. Complexity , API can be complex, and require significant effort to build and maintain |\n",
    "|3. Better user experience, API can enables third party dervelopers to create applications that integrate with existing software system | 3. Compatability issues, API can have compatability issues between different versions of same software which can lead to system failures |\n",
    "|4. Increased flexiblity, APi provide developers with great flexibility enabling them to choose best framework and programming languages for their needs | 4. Dependency on third party developers, third part developers can create programs for the platform which is out of control of the company |\n",
    "|5. New revenue streams, API enable comapnies to create new revenue streams by ptoviding access to third-part developers to thier system | 5. Governance and managemnet, API requires proper governance and management to ensure they are being used correctly and consistently across different applications and systems |"
   ]
  },
  {
   "cell_type": "markdown",
   "id": "ff623beb-a0ce-480e-9919-0a27d814fe11",
   "metadata": {},
   "source": [
    "### 3 . What is Web-API ? differntiate between API and Web-API "
   ]
  },
  {
   "cell_type": "markdown",
   "id": "ea609852-1985-4f90-8899-6d0a218aa74c",
   "metadata": {},
   "source": [
    "##### Web-API : \n",
    "- web api is an application programming interface for the web, for either a web browser or web server as a web development concept it can be related to client's side web application. A browser api can extend functionality of a web browser and A server API can extend the functionality of a server. "
   ]
  },
  {
   "cell_type": "markdown",
   "id": "ee6e3b9d-72ec-45ad-97cd-481fee18711d",
   "metadata": {},
   "source": [
    "Differences between API and Web-API :"
   ]
  },
  {
   "cell_type": "markdown",
   "id": "cb4beeba-a3e2-459d-8868-704202a71312",
   "metadata": {},
   "source": [
    "|        Web-API        |        API               |\n",
    "|-----------------------|--------------------------|\n",
    "|1. Communication Protocol, WebAPI can use HTTP, making it accessible over internet| 1. API are generally include using HTTP along with other various protocols like TCP/IP |\n",
    "|2. Platform independence, Web API are specifically designed for web based like URLs, HTTP, and methods like GET, POST ..etc along with XML and JSON | 2. API are generally used on different platforms like desktop applications , mobiles, embedded systems or even hardware devices |\n",
    "|3. Accessiblity, Web API are generally more accessible to any connectivity over internet and using standard web protocols | 3. Genral API's however may have different accessibility depending on platform and technology they are built for |\n",
    "|4. Security, Web api generally equip API keys, Auth tokens to  control access and protect sensitive data | 4. While general API can have different implementation depending platform and requirements of API |"
   ]
  },
  {
   "cell_type": "markdown",
   "id": "a53c572c-b1e9-4606-994b-fedf98e58c2c",
   "metadata": {},
   "source": [
    "### 4 . Explain REST and SOAP architecture, Mention short commings of SOAP"
   ]
  },
  {
   "cell_type": "markdown",
   "id": "0713c224-5b3d-4f83-b6e9-5179d0637c7f",
   "metadata": {},
   "source": [
    "##### REST Architecture :\n",
    "- REST ( Representational State Transfer) architectural style is a worldview that elevates information in to first class element of architectures. REST allows us to achieve the architectural properties of performance, Scalability, generality, simplicity, modifiability and extensability.  it uses HTTP to request access and use data. this allows for interaction with RESTful web services."
   ]
  },
  {
   "cell_type": "markdown",
   "id": "b52f9d4d-c2e3-47c4-9fc1-780fd46ee79d",
   "metadata": {},
   "source": [
    "##### SOAP Architecture :\n",
    "- SOAP (Simple Object Access Protocol), A messagin standard defined by World Wide Web consortium and its editors. SOAP used XML format to declare its request and response messages.  relying on XML schema and other technologies to enforce the structure of its payloads. "
   ]
  },
  {
   "cell_type": "markdown",
   "id": "cd2c7e25-1e2c-4d6c-9e45-86dfc41e1484",
   "metadata": {},
   "source": [
    "##### Short comings of SOAP :"
   ]
  },
  {
   "cell_type": "markdown",
   "id": "b26d2d00-6fa8-4662-a81f-01c0c0b57aca",
   "metadata": {},
   "source": [
    "1. SOAP uses only XML format. it is slow and consumes more bandwidth and resources.\n",
    "2. WSDL dependent, it uses WSDL (Web Services Description Language).\n",
    "3. poor performance , more complexity and less flexiblity.\n"
   ]
  },
  {
   "cell_type": "markdown",
   "id": "4988373e-434b-48a3-9087-435aeddd3add",
   "metadata": {},
   "source": [
    "### 5 . Differenciate between REST and SOAP"
   ]
  },
  {
   "cell_type": "markdown",
   "id": "26eaef06-e3c5-48ae-9710-c19b4e3e238b",
   "metadata": {},
   "source": [
    "|           REST              |              SOAP                |\n",
    "|-----------------------------|----------------------------------|\n",
    "|1. REST is a architectural style  | 1. SOAP is a protocol |\n",
    "|2. REST can use SOAP web services because it is a concept and can use HTTP| 2. SOAP cant use REST.|\n",
    "|3. REST uses URI to expose business logic | 3. SOAP uses \"services interfaces\" to expose business logic |\n",
    "|4. REST does not define too much standards | 4. SOAP defines standards to be strictly followed |\n",
    "|5. REST permits different data such as text,HTTP,XML,JSON...etc| 5. SOAP permits XML data format only|\n",
    "|6. RESTful web service inherits security measures from underlying transport| 6. SOAP defines its own security |"
   ]
  }
 ],
 "metadata": {
  "kernelspec": {
   "display_name": "Python 3 (ipykernel)",
   "language": "python",
   "name": "python3"
  },
  "language_info": {
   "codemirror_mode": {
    "name": "ipython",
    "version": 3
   },
   "file_extension": ".py",
   "mimetype": "text/x-python",
   "name": "python",
   "nbconvert_exporter": "python",
   "pygments_lexer": "ipython3",
   "version": "3.10.8"
  }
 },
 "nbformat": 4,
 "nbformat_minor": 5
}

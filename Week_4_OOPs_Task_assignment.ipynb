{
 "cells": [
  {
   "cell_type": "markdown",
   "id": "6bce2cd3-f1a9-4964-b5fb-7926ac089b7b",
   "metadata": {},
   "source": [
    "### 1 . Creating a class with \"init\" method"
   ]
  },
  {
   "cell_type": "code",
   "execution_count": 2,
   "id": "ba82cfa1-23ab-4e20-ae14-dfafb6ddbc0d",
   "metadata": {},
   "outputs": [],
   "source": [
    "## creating a class \n",
    "class vehicle:\n",
    "    \n",
    "    ## creating __init__ method with given varibales\n",
    "    def __init__(self,name_of_vehicle,max_speed,avg_of_vehicle):\n",
    "        \n",
    "        ## declaring \"self.\" to bind variables to class\n",
    "        self.name_of_vehicle = name_of_vehicle\n",
    "        self.max_speed = max_speed\n",
    "        self.avg_of_vehicle = avg_of_vehicle"
   ]
  },
  {
   "cell_type": "markdown",
   "id": "af1335e1-d03c-401b-8527-938b86ecef31",
   "metadata": {},
   "source": [
    "### 2 . Creating child class for Queston 1 "
   ]
  },
  {
   "cell_type": "code",
   "execution_count": 3,
   "id": "f32fa22f-683e-49d3-be7a-a5033ecdf238",
   "metadata": {},
   "outputs": [],
   "source": [
    "## creating child class \n",
    "class car(vehicle):\n",
    "    \n",
    "    ## creating funcntions according to given requirement\n",
    "    def seating_capacity(self,seating):\n",
    "        return self.name_of_vehicle,seating"
   ]
  },
  {
   "cell_type": "code",
   "execution_count": 7,
   "id": "05bd4011-d2c0-4b75-8366-5c409be43b5f",
   "metadata": {},
   "outputs": [],
   "source": [
    "## declaring object to call the class\n",
    "ch = car(\"Toyota\",100,50)"
   ]
  },
  {
   "cell_type": "code",
   "execution_count": 9,
   "id": "b3e4c1a9-d6c6-4d6b-b2e7-3b8424d7f7b7",
   "metadata": {},
   "outputs": [
    {
     "data": {
      "text/plain": [
       "('Toyota', 6)"
      ]
     },
     "execution_count": 9,
     "metadata": {},
     "output_type": "execute_result"
    }
   ],
   "source": [
    "## calling seating capacity to check requirements of question\n",
    "## its evident we can call name_of_vehicle along with its seating capacity\n",
    "ch.seating_capacity(6)"
   ]
  },
  {
   "cell_type": "markdown",
   "id": "142e6d69-e7d1-4ee9-9101-5f1081cf8289",
   "metadata": {},
   "source": [
    "### 3 . Multiple inheritence with example"
   ]
  },
  {
   "cell_type": "markdown",
   "id": "ec989e49-91f3-47cf-bcc9-b6d7d88260cb",
   "metadata": {},
   "source": [
    "When a class derived from multiple base classes and inherits the properties of both base classes then it is known as multiple inheritence."
   ]
  },
  {
   "cell_type": "code",
   "execution_count": 11,
   "id": "deac212d-f234-4355-8e05-a6c6711e8539",
   "metadata": {},
   "outputs": [],
   "source": [
    "## example class to show multiple inheritence\n",
    "## creating a base class\n",
    "class base_class1:\n",
    "    \n",
    "    ## defining function to return string\n",
    "    def exmaple1(self):\n",
    "        return \"This is base class 1\"\n",
    "    \n",
    "## creating a base class2\n",
    "class base_class2:\n",
    "    \n",
    "    ## defining function to return a string\n",
    "    def example2(self):\n",
    "        return \"This is base class 2\"\n",
    "    \n",
    "## creating a child class with multiple inheritence\n",
    "class derived(base_class1,base_class2):\n",
    "    pass"
   ]
  },
  {
   "cell_type": "code",
   "execution_count": 12,
   "id": "68bf4893-05f0-45f3-be6c-6ee6cd7ba3af",
   "metadata": {},
   "outputs": [],
   "source": [
    "## creating object to call the class\n",
    "bc = derived()"
   ]
  },
  {
   "cell_type": "code",
   "execution_count": 13,
   "id": "96650023-72c3-49b1-8684-bc17e18d32a7",
   "metadata": {},
   "outputs": [
    {
     "data": {
      "text/plain": [
       "'This is base class 1'"
      ]
     },
     "execution_count": 13,
     "metadata": {},
     "output_type": "execute_result"
    }
   ],
   "source": [
    "## callling functions from base classes 1,2 through child class\n",
    "## this shows multiple inheritence\n",
    "bc.exmaple1()"
   ]
  },
  {
   "cell_type": "code",
   "execution_count": 14,
   "id": "debd3c40-337f-49ab-8acc-af860185f1db",
   "metadata": {},
   "outputs": [
    {
     "data": {
      "text/plain": [
       "'This is base class 2'"
      ]
     },
     "execution_count": 14,
     "metadata": {},
     "output_type": "execute_result"
    }
   ],
   "source": [
    "bc.example2()"
   ]
  },
  {
   "cell_type": "markdown",
   "id": "3b8551a9-d4a5-4eee-b7cb-304e6c552024",
   "metadata": {},
   "source": [
    "### 4 . What is \"setter\" and \"getter\" explain with example"
   ]
  },
  {
   "cell_type": "markdown",
   "id": "49cff96c-7a90-4de1-a08b-90c16924462c",
   "metadata": {},
   "source": [
    "setter and setter in python are different from ususal OOP languages.The main purpose of using getter and setter is to ensure \"data encapssulation\". To avoid direct access to the field class.i.e private variable cannot be accessed directly or modified by external users."
   ]
  },
  {
   "cell_type": "markdown",
   "id": "e003680a-8602-4598-9398-ab4610038f5c",
   "metadata": {},
   "source": [
    "getter:-\n",
    "\n",
    "- A method that allows to access an attribute in a given class "
   ]
  },
  {
   "cell_type": "markdown",
   "id": "cc7fac51-38e2-473d-a24c-fca274b4be27",
   "metadata": {},
   "source": [
    "setter:-\n",
    "\n",
    "- A method that allows to set or mutate the value of an attribute in a class"
   ]
  },
  {
   "cell_type": "code",
   "execution_count": 1,
   "id": "fd8ab030-9b98-43de-ab94-b16753efb292",
   "metadata": {},
   "outputs": [],
   "source": [
    "## Example showing getter and setter methods\n",
    "## creating a class \n",
    "class pwskills:\n",
    "    \n",
    "    def student_details(self,name,email,number):\n",
    "        self.name = name\n",
    "        self.email = email\n",
    "        self.__number = number ## making number variable private to user\n",
    "        \n",
    "    ## defining @property to act as getter method\n",
    "    @property\n",
    "    def student_number_access(self):\n",
    "        return self.__number\n",
    "    \n",
    "    ## defining setter method option to change number\n",
    "    @student_number_access.setter\n",
    "    def change_number(self,mobile_number):\n",
    "        self.__number = mobile_number\n",
    "    \n",
    "    "
   ]
  },
  {
   "cell_type": "code",
   "execution_count": 3,
   "id": "5f9952f6-30ab-423b-8b37-eb34a04d5284",
   "metadata": {},
   "outputs": [],
   "source": [
    "## creating object to access class\n",
    "v = pwskills()"
   ]
  },
  {
   "cell_type": "code",
   "execution_count": 4,
   "id": "1f3eb407-2dc7-40fe-a2d9-75b3c421d899",
   "metadata": {},
   "outputs": [],
   "source": [
    "v.student_details(\"Madhusudhan\",\"madhan@gmail.com\",3256545675)"
   ]
  },
  {
   "cell_type": "code",
   "execution_count": 5,
   "id": "f7670b0c-644c-47e8-b9d9-679158d84fb3",
   "metadata": {},
   "outputs": [
    {
     "data": {
      "text/plain": [
       "3256545675"
      ]
     },
     "execution_count": 5,
     "metadata": {},
     "output_type": "execute_result"
    }
   ],
   "source": [
    "## calling getter to access private varibale \"number\"\n",
    "v.student_number_access"
   ]
  },
  {
   "cell_type": "code",
   "execution_count": 8,
   "id": "b2204bce-02ea-4cf2-9419-ac5396b5b419",
   "metadata": {},
   "outputs": [],
   "source": [
    "## calling setter to change the number\n",
    "v.change_number = 546876980"
   ]
  },
  {
   "cell_type": "code",
   "execution_count": 9,
   "id": "30d92f58-da84-4701-b3cc-38c803d48665",
   "metadata": {},
   "outputs": [
    {
     "data": {
      "text/plain": [
       "546876980"
      ]
     },
     "execution_count": 9,
     "metadata": {},
     "output_type": "execute_result"
    }
   ],
   "source": [
    "## calling getter to see new changed number\n",
    "v.student_number_access"
   ]
  },
  {
   "cell_type": "markdown",
   "id": "f4b470db-fd92-4dd6-95d3-0cc7967b57d6",
   "metadata": {},
   "source": [
    "### 5 . Method overriding in Python with example"
   ]
  },
  {
   "cell_type": "markdown",
   "id": "b83ff0c5-91d3-45aa-84fd-1259498686d6",
   "metadata": {},
   "source": [
    "Method overriding is concept in OOP that is closely related to inheritence, When a child class method overrides or provides its own implementation to the parent class of same name,parameters and return type. it is known as method overriding "
   ]
  },
  {
   "cell_type": "code",
   "execution_count": 10,
   "id": "ad51a126-8331-4db9-bb4c-1301c7b8ece2",
   "metadata": {},
   "outputs": [],
   "source": [
    "## Example to show method overriding \n",
    "## creating a class\n",
    "class parent:\n",
    "    \n",
    "    def family(self):\n",
    "        print(\"This is parent class\")\n",
    "        \n",
    "        \n",
    "## creating a child class\n",
    "class child(parent):\n",
    "    \n",
    "    def family(self):\n",
    "        print(\"This is child class\")\n",
    "        "
   ]
  },
  {
   "cell_type": "code",
   "execution_count": 11,
   "id": "b7922f7a-44e7-4130-914c-5448c5455b5d",
   "metadata": {},
   "outputs": [],
   "source": [
    "## creating objects for each class\n",
    "p = parent()\n",
    "c = child()"
   ]
  },
  {
   "cell_type": "code",
   "execution_count": 13,
   "id": "cd272a1d-85d7-4bf0-b5c3-3dba723c9e78",
   "metadata": {},
   "outputs": [
    {
     "name": "stdout",
     "output_type": "stream",
     "text": [
      "This is parent class\n"
     ]
    }
   ],
   "source": [
    "## calling the methods to show method overriding\n",
    "p.family()"
   ]
  },
  {
   "cell_type": "code",
   "execution_count": 14,
   "id": "c09bbbca-a933-45ff-8972-ad4738849aed",
   "metadata": {},
   "outputs": [
    {
     "name": "stdout",
     "output_type": "stream",
     "text": [
      "This is child class\n"
     ]
    }
   ],
   "source": [
    "c.family()"
   ]
  }
 ],
 "metadata": {
  "kernelspec": {
   "display_name": "Python 3 (ipykernel)",
   "language": "python",
   "name": "python3"
  },
  "language_info": {
   "codemirror_mode": {
    "name": "ipython",
    "version": 3
   },
   "file_extension": ".py",
   "mimetype": "text/x-python",
   "name": "python",
   "nbconvert_exporter": "python",
   "pygments_lexer": "ipython3",
   "version": "3.10.8"
  }
 },
 "nbformat": 4,
 "nbformat_minor": 5
}

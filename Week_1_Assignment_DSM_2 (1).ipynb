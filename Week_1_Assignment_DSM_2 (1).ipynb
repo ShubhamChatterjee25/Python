{
 "cells": [
  {
   "cell_type": "markdown",
   "id": "460417ac-6b80-463b-b1e6-6d7c316a5d5d",
   "metadata": {},
   "source": [
    "\n",
    "## 1. Create one variable for each data type"
   ]
  },
  {
   "cell_type": "code",
   "execution_count": 1,
   "id": "3cce5f61-29a1-486b-8c09-c91fe5ae06ad",
   "metadata": {},
   "outputs": [],
   "source": [
    "# String\n",
    "s = \"My name is Madhusudhan\""
   ]
  },
  {
   "cell_type": "code",
   "execution_count": 3,
   "id": "65dfdf5a-41bd-4081-b6f8-734283716875",
   "metadata": {},
   "outputs": [],
   "source": [
    "# list\n",
    "l = [20,3,1999]"
   ]
  },
  {
   "cell_type": "code",
   "execution_count": 6,
   "id": "a4f416d4-52f8-45f8-a787-e46cf832535f",
   "metadata": {
    "tags": []
   },
   "outputs": [],
   "source": [
    "# Float\n",
    "f = 6.1432"
   ]
  },
  {
   "cell_type": "code",
   "execution_count": 5,
   "id": "cb1b74bc-9cb0-4173-8ef8-2ce77900d81d",
   "metadata": {},
   "outputs": [],
   "source": [
    "# Tuple \n",
    "t = [20, 6.1, \"Madhusudhan\", 3+5j]"
   ]
  },
  {
   "cell_type": "markdown",
   "id": "df0bc5cb-724b-4def-8f5d-01b60d888437",
   "metadata": {
    "tags": []
   },
   "source": [
    "## 2. Finding Data type of given variable"
   ]
  },
  {
   "cell_type": "code",
   "execution_count": 1,
   "id": "8a106199-2ea1-4ae6-bb52-46f2ea509251",
   "metadata": {},
   "outputs": [
    {
     "data": {
      "text/plain": [
       "str"
      ]
     },
     "execution_count": 1,
     "metadata": {},
     "output_type": "execute_result"
    }
   ],
   "source": [
    "# Given Variable \n",
    "var1 = ''\n",
    "\n",
    "# Finding the Data type of var1\n",
    "type(var1)"
   ]
  },
  {
   "cell_type": "code",
   "execution_count": 10,
   "id": "c23a3c37-5f5f-4c69-99fd-e2f042fc7109",
   "metadata": {},
   "outputs": [
    {
     "data": {
      "text/plain": [
       "str"
      ]
     },
     "execution_count": 10,
     "metadata": {},
     "output_type": "execute_result"
    }
   ],
   "source": [
    "# Given Variable\n",
    "var2 = '[DS, ML, Python]'\n",
    "\n",
    "# Finding the Data Type of var2\n",
    "type(var2)"
   ]
  },
  {
   "cell_type": "code",
   "execution_count": 12,
   "id": "fbf338e9-4a29-4f30-bc75-e2ce78a1a71c",
   "metadata": {},
   "outputs": [
    {
     "data": {
      "text/plain": [
       "list"
      ]
     },
     "execution_count": 12,
     "metadata": {},
     "output_type": "execute_result"
    }
   ],
   "source": [
    "# Given variable \n",
    "var3 = ['DS', 'ML', 'Python']\n",
    "\n",
    "# Finding the Data Type of var3\n",
    "type(var3)"
   ]
  },
  {
   "cell_type": "code",
   "execution_count": 13,
   "id": "686c4782-6d8b-45ed-8889-4872951add47",
   "metadata": {},
   "outputs": [
    {
     "data": {
      "text/plain": [
       "int"
      ]
     },
     "execution_count": 13,
     "metadata": {},
     "output_type": "execute_result"
    }
   ],
   "source": [
    "# Given Variable \n",
    "var4 = 1\n",
    "\n",
    "# Finding out DATA Type of var4\n",
    "type(var4)"
   ]
  },
  {
   "cell_type": "markdown",
   "id": "6f0ae5e2-8a78-4b6a-b328-797a5e7ff1dd",
   "metadata": {},
   "source": [
    "## 3. Explaining Use of Operators \" / % // ** \" using examples "
   ]
  },
  {
   "cell_type": "code",
   "execution_count": 18,
   "id": "39f03660-f54a-453a-8510-c7d99bcd6bbe",
   "metadata": {},
   "outputs": [
    {
     "name": "stdout",
     "output_type": "stream",
     "text": [
      "2.0\n",
      "0\n",
      "2\n",
      "100000\n"
     ]
    }
   ],
   "source": [
    "# Creating variables a,b \n",
    "a = 10\n",
    "b = 5\n",
    "\n",
    "# \"/\" is used to perform mathematical Division operation\n",
    "c = a/b\n",
    "print(c)\n",
    "\n",
    "# \"%\" is used to perform MODULOS operation \n",
    "d = a%b\n",
    "print(d)\n",
    "\n",
    "# \"//\" is called floor divion it Divides and returns the integer value of the quotient.\n",
    "e = a//b\n",
    "print(e)\n",
    "\n",
    "# \"**\" is called exponentiation. it calculates power of the number\n",
    "f = a**b\n",
    "print(f)"
   ]
  },
  {
   "cell_type": "markdown",
   "id": "a0c2a1dd-40b4-4a70-a247-61323c0c6863",
   "metadata": {},
   "source": [
    "## 4. Creating data and printing its types using \"for\" loop"
   ]
  },
  {
   "cell_type": "code",
   "execution_count": 31,
   "id": "574e9584-4342-45b5-96ae-ef556e94d49d",
   "metadata": {},
   "outputs": [
    {
     "name": "stdout",
     "output_type": "stream",
     "text": [
      "10\n",
      "<class 'int'>\n",
      "20\n",
      "<class 'int'>\n",
      "pwskills\n",
      "<class 'str'>\n",
      "madhusudhan\n",
      "<class 'str'>\n",
      "69.45\n",
      "<class 'float'>\n",
      "55.12\n",
      "<class 'float'>\n",
      "(3+5j)\n",
      "<class 'complex'>\n",
      "(6+10j)\n",
      "<class 'complex'>\n",
      "True\n",
      "<class 'bool'>\n",
      "False\n",
      "<class 'bool'>\n"
     ]
    }
   ],
   "source": [
    "# Creating variable l with multiple data type elements\n",
    "l = [10,20, \"pwskills\", \"madhusudhan\", 69.45, 55.12, 3+5j, 6+10j, True, False]\n",
    "\n",
    "# Writing for loop to iterate the list and print its data type\n",
    "for i in l:\n",
    "    print(i)\n",
    "    print(type(i))"
   ]
  },
  {
   "cell_type": "markdown",
   "id": "b86cf789-a251-4b8b-b66f-1b3a9e48d3a8",
   "metadata": {},
   "source": [
    "## 5. Creating while loop to divide and find the count"
   ]
  },
  {
   "cell_type": "code",
   "execution_count": 5,
   "id": "77e630e5-5402-488e-8c32-082bf0808ac2",
   "metadata": {},
   "outputs": [
    {
     "name": "stdin",
     "output_type": "stream",
     "text": [
      "Enter number A 50\n",
      "Enter number B 5\n"
     ]
    },
    {
     "name": "stdout",
     "output_type": "stream",
     "text": [
      "it can be divided 2 time(s).\n"
     ]
    }
   ],
   "source": [
    "# Declaring variabels with input function\n",
    "A = int(input(\"Enter number A\"))\n",
    "B = int(input(\"Enter number B\"))\n",
    "\n",
    "# Declaring variable to hold the number of divisions\n",
    "count=0\n",
    "\n",
    "# Using \"While\" loop to loop and use divisoin as condition \n",
    "while A%B == 0:\n",
    "    A = A/B\n",
    "    count += 1\n",
    "    \n",
    "# Printing out the result along with number of times its divided\n",
    "print(\"it can be divided\", count,\"time(s).\")\n"
   ]
  },
  {
   "cell_type": "markdown",
   "id": "a7610058-07b5-4ca0-a113-579053adb95a",
   "metadata": {},
   "source": [
    "## 6. Using \"for\" and \"if-else\" to print element divided by 3 or not"
   ]
  },
  {
   "cell_type": "code",
   "execution_count": 13,
   "id": "c143508e-873f-46f3-b2d1-56350d596abf",
   "metadata": {},
   "outputs": [
    {
     "name": "stdout",
     "output_type": "stream",
     "text": [
      "{10} element is not divisible by 3\n",
      "{20} element is not divisible by 3\n",
      "{30} element is divisible by 3\n",
      "{40} element is not divisible by 3\n",
      "{11} element is not divisible by 3\n",
      "{22} element is not divisible by 3\n",
      "{33} element is divisible by 3\n",
      "{44} element is not divisible by 3\n",
      "{23} element is not divisible by 3\n",
      "{33} element is divisible by 3\n",
      "{43} element is not divisible by 3\n",
      "{13} element is not divisible by 3\n",
      "{73} element is not divisible by 3\n",
      "{63} element is divisible by 3\n",
      "{53} element is not divisible by 3\n",
      "{77} element is not divisible by 3\n",
      "{88} element is not divisible by 3\n",
      "{99} element is divisible by 3\n",
      "{12} element is divisible by 3\n",
      "{13} element is not divisible by 3\n",
      "{14} element is not divisible by 3\n",
      "{5} element is not divisible by 3\n",
      "{6} element is divisible by 3\n",
      "{8} element is not divisible by 3\n",
      "{3} element is divisible by 3\n"
     ]
    }
   ],
   "source": [
    "# Create a list of 25 integers\n",
    "l = [10,20,30,40,11,22,33,44,23,33,43,13,73,63,53,77,88,99,12,13,14,5,6,8,3]\n",
    "\n",
    "# Looping through list using \"for\" loop\n",
    "for num in l:\n",
    "    # using If-Else condition to check divisible by 3\n",
    "    if num%3 == 0:\n",
    "        print({num},\"element is divisible by 3\")\n",
    "    else:\n",
    "        print({num},\"element is not divisible by 3\")"
   ]
  },
  {
   "cell_type": "markdown",
   "id": "e8ec962d-c64e-4b3a-920d-5e252963fb34",
   "metadata": {},
   "source": [
    "## 7. Mutuable and Immutable Data Types with exampls "
   ]
  },
  {
   "cell_type": "markdown",
   "id": "ce53b142-71b0-4599-b199-f358d802713e",
   "metadata": {},
   "source": [
    "##### Mutable Objects \n",
    "#####                   Lists, Dictionaries, Sets are considered as mutable objects. It means the data elements inside these can be                changed, removed, modified. Mutable Objects are useful when we need to change the size of the contents of our objects"
   ]
  },
  {
   "cell_type": "code",
   "execution_count": 17,
   "id": "7705ec20-48bd-4b33-b693-166c4a64d034",
   "metadata": {},
   "outputs": [
    {
     "name": "stdout",
     "output_type": "stream",
     "text": [
      "List after appending a value [2, 4, 6, 8, 10, 12, 14, 16]\n",
      "List after extending my_list [2, 4, 6, 8, 10, 12, 14, 16, 18, 20, 22]\n",
      "List after removing a value [2, 4, 6, 10, 12, 14, 16, 18, 20, 22]\n"
     ]
    }
   ],
   "source": [
    "# Example to demonstrate Mutable Object\n",
    "# creating a list \n",
    "my_list = [2,4,6,8,10,12,14]\n",
    "\n",
    "# Using append on my_list\n",
    "my_list.append(16)\n",
    "# Printing out result\n",
    "print(\"List after appending a value\", my_list)\n",
    "\n",
    "# using extend on my_list\n",
    "my_list.extend([18,20,22])\n",
    "# printing out the result\n",
    "print(\"List after extending my_list\", my_list)\n",
    "\n",
    "# using remove on my_list\n",
    "my_list.remove(8)\n",
    "# printing out the result\n",
    "print(\"List after removing a value\", my_list)"
   ]
  },
  {
   "cell_type": "markdown",
   "id": "44448a15-ca4f-43cc-a898-c2addbc7d480",
   "metadata": {},
   "source": [
    "#### Immutable Objects \n",
    "#####                   Tuples,int,float,bool are known as immutable objects. An immutable object cannot be changed after its created.                   Immutable objects are best suitable when we are sure that they dont need to be changed at any point of time "
   ]
  }
 ],
 "metadata": {
  "kernelspec": {
   "display_name": "Python 3 (ipykernel)",
   "language": "python",
   "name": "python3"
  },
  "language_info": {
   "codemirror_mode": {
    "name": "ipython",
    "version": 3
   },
   "file_extension": ".py",
   "mimetype": "text/x-python",
   "name": "python",
   "nbconvert_exporter": "python",
   "pygments_lexer": "ipython3",
   "version": "3.10.8"
  }
 },
 "nbformat": 4,
 "nbformat_minor": 5
}

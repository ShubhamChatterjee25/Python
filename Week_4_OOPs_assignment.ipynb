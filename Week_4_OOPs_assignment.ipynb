{
 "cells": [
  {
   "cell_type": "markdown",
   "id": "f59423fd-73f8-40b5-bcef-d67646187c7b",
   "metadata": {},
   "source": [
    "### 1 . Class and Object explained"
   ]
  },
  {
   "cell_type": "markdown",
   "id": "321908d6-c968-41b8-958c-d2937131e3d6",
   "metadata": {},
   "source": [
    "Python is an Object Oriented Programming language, Almost all of python are objects with its properties and methods.\n",
    "\n",
    "Class :-\n",
    "- Class is like a blueprint of objects . we can think class as a \"sketch(prototype)\" of a house. It contains all the details of floors,windows,doors..etc. Based on these descriptions we build the house. \"House is an object\""
   ]
  },
  {
   "cell_type": "markdown",
   "id": "2fbe82e6-fa81-44d5-b53f-32edc6cf57db",
   "metadata": {},
   "source": [
    "Object:-\n",
    "\n",
    "- An object is called an instance of a class. for example \"Bike\" is a class where \"Bike1\", \"Bike2\", \"Bike3\" are called objects. we can implement real world things into objects using OOP in python. "
   ]
  },
  {
   "cell_type": "code",
   "execution_count": 8,
   "id": "d6fa16c5-df59-456a-bae8-2d835f037945",
   "metadata": {},
   "outputs": [],
   "source": [
    "## Example showing creation of class and object\n",
    "## creating a class \n",
    "class bike:\n",
    "    name = \"Yamaha\"\n",
    "    gear = 5"
   ]
  },
  {
   "cell_type": "code",
   "execution_count": 10,
   "id": "d6210701-bc43-4ef0-acd0-2983907c4287",
   "metadata": {},
   "outputs": [
    {
     "name": "stdout",
     "output_type": "stream",
     "text": [
      "Yamaha 5\n"
     ]
    }
   ],
   "source": [
    "## creating object for the class \"bike\"\n",
    "object_bike = bike()\n",
    "\n",
    "## printing object to get the class items\n",
    "print(object_bike.name,object_bike.gear)"
   ]
  },
  {
   "cell_type": "markdown",
   "id": "e9a597e3-33a1-420d-8322-297711fffe39",
   "metadata": {},
   "source": [
    "### 2 . Name Four PIllars Of OOPs"
   ]
  },
  {
   "cell_type": "markdown",
   "id": "53cbfdeb-c306-4aa5-b30b-439a9c5e1dbc",
   "metadata": {},
   "source": [
    "Python is an Object Oriented Programming Language. the concept of OOP contains four major concepts which are so important they are considered as pillars of OOP.  They are as follows"
   ]
  },
  {
   "cell_type": "markdown",
   "id": "8b5a71c1-8882-4d6a-87e7-a3019fcb2812",
   "metadata": {},
   "source": [
    " 1. Encapsulation\n",
    "\n",
    " 2. Abstraction\n",
    "\n",
    " 3. Polymorphism\n",
    "\n",
    " 4. Inheritence"
   ]
  },
  {
   "cell_type": "markdown",
   "id": "b64d6328-ac16-4e28-8ebe-a50727c56b74",
   "metadata": {},
   "source": [
    "### 3 . Explain why \"init\" function is used with example"
   ]
  },
  {
   "cell_type": "markdown",
   "id": "963ad7d5-0b28-4d6b-aa5d-3a6c4c09b387",
   "metadata": {},
   "source": [
    "the \"__init__\" is used as constructor inside a class to instantialize objects that are declared.\n",
    "and also store and connect class varibale and values. it lets the class initialize object's attributes and it is only used inside class."
   ]
  },
  {
   "cell_type": "code",
   "execution_count": 29,
   "id": "16ac1cb1-8584-4859-abc6-f4fec4043c11",
   "metadata": {},
   "outputs": [],
   "source": [
    "## Example to show __init__ in a class\n",
    "## creating a class\n",
    "class pwskills:\n",
    "    \n",
    "    ## using __init__ to instantialize object and its atrributes\n",
    "    def __init__(self,name,email_id): \n",
    "        \n",
    "        ## using self to reference object to class\n",
    "        self.name = name\n",
    "        self.email_id = email_id\n",
    "        "
   ]
  },
  {
   "cell_type": "code",
   "execution_count": 26,
   "id": "ca561584-0f2c-48cf-8f3f-afb9199cce27",
   "metadata": {},
   "outputs": [],
   "source": [
    "## creating object for class \n",
    "pw = pwskills(\"Madhusudhan\",\"alliswellforall88@gmail.com\")"
   ]
  },
  {
   "cell_type": "code",
   "execution_count": 27,
   "id": "58c75b8d-1f96-42fe-85c7-f4cdba8b33ce",
   "metadata": {},
   "outputs": [
    {
     "data": {
      "text/plain": [
       "'Madhusudhan'"
      ]
     },
     "execution_count": 27,
     "metadata": {},
     "output_type": "execute_result"
    }
   ],
   "source": [
    "pw.name"
   ]
  },
  {
   "cell_type": "code",
   "execution_count": 28,
   "id": "785ad75e-b818-4c7a-a930-96afdbb3a4fe",
   "metadata": {},
   "outputs": [
    {
     "data": {
      "text/plain": [
       "'alliswellforall88@gmail.com'"
      ]
     },
     "execution_count": 28,
     "metadata": {},
     "output_type": "execute_result"
    }
   ],
   "source": [
    "pw.email_id"
   ]
  },
  {
   "cell_type": "markdown",
   "id": "47d68783-ab61-40e4-9054-a08fdf22fbf3",
   "metadata": {},
   "source": [
    "### 4 . Why is \"self\" is used in oops"
   ]
  },
  {
   "cell_type": "markdown",
   "id": "80161b94-c717-4c7b-a652-5a148135992e",
   "metadata": {},
   "source": [
    "The self parameter is a reference to current (object)instance of a class .\n",
    "if there was no self argument present in the same class cannot hold that multiple information regarding the objects ."
   ]
  },
  {
   "cell_type": "code",
   "execution_count": 38,
   "id": "452da869-891e-4bad-ae36-97e3453c4117",
   "metadata": {},
   "outputs": [],
   "source": [
    "## example of class with self \n",
    "## creating a class \n",
    "class bike:\n",
    "    \n",
    "    def __init__(self,name,make,year):\n",
    "        ## using self to bind varibale to class\n",
    "        self.name = name\n",
    "        self.make = make\n",
    "        self.year = year"
   ]
  },
  {
   "cell_type": "code",
   "execution_count": 32,
   "id": "42523e72-4dba-40f4-b3e5-f79d002c536e",
   "metadata": {},
   "outputs": [],
   "source": [
    "## creating object to call the class\n",
    "bk = bike(\"Bullet 350\",\"Royal Enfield\",2021)"
   ]
  },
  {
   "cell_type": "code",
   "execution_count": 39,
   "id": "6688f01b-4df0-4939-aada-cb2b21ed97d6",
   "metadata": {},
   "outputs": [
    {
     "name": "stdout",
     "output_type": "stream",
     "text": [
      "Royal Enfield Bullet 350 2021\n"
     ]
    }
   ],
   "source": [
    "## calling the varibale inside bike class with object\n",
    "print(bk.make,bk.name,bk.year)\n"
   ]
  },
  {
   "cell_type": "markdown",
   "id": "16da83ae-cbca-4744-a1a5-2bf19d478348",
   "metadata": {},
   "source": [
    "### 5 . What is inheritence and example of each type"
   ]
  },
  {
   "cell_type": "markdown",
   "id": "5d8928d1-5d93-4769-8da6-06b3fce288d0",
   "metadata": {},
   "source": [
    "Inheritence is defined as mechanism of inheriting properties of base class to the child class.\n",
    "it means the properties(values) available in one class are available in another class which is called as child class along with the unique data of the child class itself."
   ]
  },
  {
   "cell_type": "markdown",
   "id": "c088bd16-24d3-412e-8a5f-0ac08cc72edb",
   "metadata": {},
   "source": [
    "Inheritence is of five types, they are :-\n",
    "\n",
    "1. Single inheritence\n",
    "\n",
    "2. Multiple inheritence\n",
    "\n",
    "3. Multi-level inheritence\n",
    "\n",
    "4. Hierarchical inheritence \n",
    "\n",
    "5. Hybrid inheritence"
   ]
  },
  {
   "cell_type": "markdown",
   "id": "ebe933ff-f8fb-432f-b142-e7a066d454a2",
   "metadata": {},
   "source": [
    "##### !. Single inheritence example"
   ]
  },
  {
   "cell_type": "code",
   "execution_count": 42,
   "id": "893346dd-eaa8-43ea-a384-722940831476",
   "metadata": {},
   "outputs": [],
   "source": [
    "## example class to show single inheritence\n",
    "## base/parent calss\n",
    "class parent:\n",
    "    \n",
    "    def example(self):\n",
    "        return \"This is parent class\"\n",
    "    \n",
    "## creating derived/child class\n",
    "class child(parent):\n",
    "    pass"
   ]
  },
  {
   "cell_type": "code",
   "execution_count": 49,
   "id": "6c41f145-74a8-45d0-9a2f-0212d91df653",
   "metadata": {},
   "outputs": [],
   "source": [
    "## called parent class from child class\n",
    "si = child()"
   ]
  },
  {
   "cell_type": "code",
   "execution_count": 50,
   "id": "d85bd49a-555c-404e-89bb-a08d98ea01a7",
   "metadata": {},
   "outputs": [
    {
     "data": {
      "text/plain": [
       "'This is parent class'"
      ]
     },
     "execution_count": 50,
     "metadata": {},
     "output_type": "execute_result"
    }
   ],
   "source": [
    "si.example()\n",
    "## here were able to call parent class properties through child class "
   ]
  },
  {
   "cell_type": "markdown",
   "id": "934ad263-b672-44c9-aeaa-bfb2a0f3f4e0",
   "metadata": {},
   "source": [
    "##### 2. Multiple inheritence example"
   ]
  },
  {
   "cell_type": "code",
   "execution_count": 48,
   "id": "3bd127ed-5a33-424b-b0b9-299bdc3cdf98",
   "metadata": {},
   "outputs": [],
   "source": [
    "## example class to show multple inheritence\n",
    "## creating parnet class\n",
    "class father:\n",
    "    \n",
    "    def exmaple(self):\n",
    "        return \"This is Father of Son\"\n",
    "    \n",
    "## creating another parent class\n",
    "class mother:\n",
    "    \n",
    "    def example1(self):\n",
    "        return \"This is mother of son\"\n",
    "    \n",
    "## creating child class\n",
    "class son(father,mother):\n",
    "    pass"
   ]
  },
  {
   "cell_type": "code",
   "execution_count": 58,
   "id": "f539114d-d90e-4a66-8071-7d74cea21d23",
   "metadata": {},
   "outputs": [],
   "source": [
    "## decalaring object to call class\n",
    "mh = son()"
   ]
  },
  {
   "cell_type": "code",
   "execution_count": 59,
   "id": "36827020-3b86-4516-9810-11e4589094e1",
   "metadata": {},
   "outputs": [
    {
     "data": {
      "text/plain": [
       "'This is Father of Son'"
      ]
     },
     "execution_count": 59,
     "metadata": {},
     "output_type": "execute_result"
    }
   ],
   "source": [
    "## we can access both parent classes from single child class\n",
    "mh.exmaple()"
   ]
  },
  {
   "cell_type": "code",
   "execution_count": 60,
   "id": "09cac22a-f038-4dbd-a864-238e6772f070",
   "metadata": {},
   "outputs": [
    {
     "data": {
      "text/plain": [
       "'This is mother of son'"
      ]
     },
     "execution_count": 60,
     "metadata": {},
     "output_type": "execute_result"
    }
   ],
   "source": [
    "mh.example1()"
   ]
  },
  {
   "cell_type": "markdown",
   "id": "507a8bb0-5ad4-402e-b8dd-f0ee5e5e2a8b",
   "metadata": {},
   "source": [
    "##### 3. Multi-level inheritence example"
   ]
  },
  {
   "cell_type": "code",
   "execution_count": 62,
   "id": "406d8f8e-8829-42c4-bca8-9c374899d692",
   "metadata": {},
   "outputs": [],
   "source": [
    "## example to show multi-level inheritence\n",
    "## creating parent class\n",
    "class grand_father:\n",
    "    \n",
    "    def exmaple(self):\n",
    "        return \"This is grand father class\"\n",
    "    \n",
    "## creating succeding class that hold previous class\n",
    "class father(grand_father):\n",
    "    def exmaple1(self):\n",
    "        return \"This is father class\"\n",
    "    \n",
    "## creating child class invoking father class\n",
    "class son(father):\n",
    "    def example3(self):\n",
    "        return \"This is child class\"\n"
   ]
  },
  {
   "cell_type": "code",
   "execution_count": 63,
   "id": "f48e3580-5607-4fe4-82c9-26edca8f4f72",
   "metadata": {},
   "outputs": [],
   "source": [
    "## creating object to call classs\n",
    "ml = son()"
   ]
  },
  {
   "cell_type": "code",
   "execution_count": 71,
   "id": "c748e9cf-6f9e-48f2-a8aa-23319576efa3",
   "metadata": {},
   "outputs": [
    {
     "data": {
      "text/plain": [
       "'This is grand father class'"
      ]
     },
     "execution_count": 71,
     "metadata": {},
     "output_type": "execute_result"
    }
   ],
   "source": [
    "## we can call grandfather,father through son class , it is multi level inheritenc\n",
    "ml.exmaple()"
   ]
  },
  {
   "cell_type": "code",
   "execution_count": 72,
   "id": "21ee2636-05bd-42f8-868d-157eb7858f07",
   "metadata": {},
   "outputs": [
    {
     "data": {
      "text/plain": [
       "'This is father class'"
      ]
     },
     "execution_count": 72,
     "metadata": {},
     "output_type": "execute_result"
    }
   ],
   "source": [
    "ml.exmaple1()"
   ]
  },
  {
   "cell_type": "markdown",
   "id": "dc4443f0-2105-44b7-9539-b05a7220dd5a",
   "metadata": {},
   "source": [
    "##### 4. Hierarchical inheritence example"
   ]
  },
  {
   "cell_type": "code",
   "execution_count": 81,
   "id": "ab79306f-975b-401b-b8d9-9f992e9ce63e",
   "metadata": {},
   "outputs": [],
   "source": [
    "## example class to show hierarchical inheritence\n",
    "## creating parent class\n",
    "class parent:\n",
    "    def example(self):\n",
    "        return \"This is parent class\"\n",
    "\n",
    "## creating child class\n",
    "class child1(parent):\n",
    "    def example1(self):\n",
    "        return \"This is Child 1 class\"\n",
    "\n",
    "## creating another child class\n",
    "class child2(parent):\n",
    "    def example2(self):\n",
    "        return \"This is child 2 class\""
   ]
  },
  {
   "cell_type": "code",
   "execution_count": 82,
   "id": "f87c0872-47a4-421e-9d74-dcc23668da73",
   "metadata": {},
   "outputs": [],
   "source": [
    "## creating two objects for two child classs\n",
    "ch1  = child1()\n",
    "ch2  = child2()"
   ]
  },
  {
   "cell_type": "code",
   "execution_count": 86,
   "id": "b75ed6a7-4afe-4a9c-81e4-352a8906ced5",
   "metadata": {},
   "outputs": [
    {
     "name": "stdout",
     "output_type": "stream",
     "text": [
      "This is Child 1 class   This is parent class\n"
     ]
    }
   ],
   "source": [
    "## calling functions from both objects to show hirerarchical inheritence\n",
    "print(ch1.example1(), \" \" ,ch1.example())"
   ]
  },
  {
   "cell_type": "code",
   "execution_count": 87,
   "id": "db99294b-085f-4bc8-8d56-125cd6924a1a",
   "metadata": {},
   "outputs": [
    {
     "name": "stdout",
     "output_type": "stream",
     "text": [
      "This is child 2 class   This is parent class\n"
     ]
    }
   ],
   "source": [
    "print(ch2.example2(), \" \" ,ch2.example())"
   ]
  },
  {
   "cell_type": "markdown",
   "id": "cb615239-3aa4-4fb9-9be0-299aa1f50464",
   "metadata": {},
   "source": [
    "##### 5. Hybrid inheritence example"
   ]
  },
  {
   "cell_type": "code",
   "execution_count": 89,
   "id": "7340fff1-a85b-4b3d-b53f-f27b50d179f9",
   "metadata": {},
   "outputs": [],
   "source": [
    "## example class to show hybrid inheritence\n",
    "## crreating school class\n",
    "class school:\n",
    "    def func(self):\n",
    "        return \"This is fucntion in school\"\n",
    "    \n",
    "## creating student class\n",
    "class student1(school):\n",
    "    def func1(self):\n",
    "        return \"This is function in student 1\"\n",
    "    \n",
    "## creating student class\n",
    "class student2(school):\n",
    "    def func2(self):\n",
    "        return \"This is function in student 2\"\n",
    "    \n",
    "## creaing student class on studnet 1 tree\n",
    "class student3(student1,school):\n",
    "    def func3(self):\n",
    "        return \"This is function in student 3\""
   ]
  },
  {
   "cell_type": "code",
   "execution_count": 90,
   "id": "ef583ced-3b96-411d-8296-fc4259c12161",
   "metadata": {},
   "outputs": [],
   "source": [
    "## creating objects for class \n",
    "stu = student3()"
   ]
  },
  {
   "cell_type": "code",
   "execution_count": 91,
   "id": "260846fc-fa5b-4506-98f2-0993b7929103",
   "metadata": {},
   "outputs": [
    {
     "data": {
      "text/plain": [
       "'This is fucntion in school'"
      ]
     },
     "execution_count": 91,
     "metadata": {},
     "output_type": "execute_result"
    }
   ],
   "source": [
    "## calling function 1,2 present in student 1 and school classes to show hybrid inheritence\n",
    "stu.func()"
   ]
  },
  {
   "cell_type": "code",
   "execution_count": 92,
   "id": "3d0c2424-9d5c-4cbe-b509-d6f9a84cbb06",
   "metadata": {},
   "outputs": [
    {
     "data": {
      "text/plain": [
       "'This is function in student 1'"
      ]
     },
     "execution_count": 92,
     "metadata": {},
     "output_type": "execute_result"
    }
   ],
   "source": [
    "stu.func1()"
   ]
  },
  {
   "cell_type": "code",
   "execution_count": 93,
   "id": "87620d0d-51ba-4d6b-9928-6800b724bb6a",
   "metadata": {},
   "outputs": [
    {
     "data": {
      "text/plain": [
       "'This is function in student 3'"
      ]
     },
     "execution_count": 93,
     "metadata": {},
     "output_type": "execute_result"
    }
   ],
   "source": [
    "stu.func3()"
   ]
  }
 ],
 "metadata": {
  "kernelspec": {
   "display_name": "Python 3 (ipykernel)",
   "language": "python",
   "name": "python3"
  },
  "language_info": {
   "codemirror_mode": {
    "name": "ipython",
    "version": 3
   },
   "file_extension": ".py",
   "mimetype": "text/x-python",
   "name": "python",
   "nbconvert_exporter": "python",
   "pygments_lexer": "ipython3",
   "version": "3.10.8"
  }
 },
 "nbformat": 4,
 "nbformat_minor": 5
}

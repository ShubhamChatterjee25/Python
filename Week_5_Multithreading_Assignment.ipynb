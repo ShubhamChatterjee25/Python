{
 "cells": [
  {
   "cell_type": "markdown",
   "id": "fe654f6a-95f7-4bcb-89cc-1eedb715414d",
   "metadata": {},
   "source": [
    "### 1 . Multithreading, The Module and How its used"
   ]
  },
  {
   "cell_type": "markdown",
   "id": "d4b20a8c-b4c2-4643-aaa7-5d6798063f00",
   "metadata": {},
   "source": [
    "Multithreading :\n",
    "- python has the ability to run various things simultaneously at same time it is called multithreading. it is a small part of a process that an OS (operating system) can execute. a thread can be executed independently of other code."
   ]
  },
  {
   "cell_type": "markdown",
   "id": "7ea3e95f-243a-4b11-a7da-abfdef527300",
   "metadata": {},
   "source": [
    "##### Module used to implement threading in python"
   ]
  },
  {
   "cell_type": "code",
   "execution_count": 2,
   "id": "2f1bde95-d16b-4817-81c8-d757b2cda584",
   "metadata": {},
   "outputs": [],
   "source": [
    "## importing threading module\n",
    "import threading"
   ]
  },
  {
   "cell_type": "markdown",
   "id": "16721ad6-92b4-43a5-b837-1deede40c662",
   "metadata": {},
   "source": [
    "##### why threading is used in python"
   ]
  },
  {
   "cell_type": "markdown",
   "id": "85c808df-8f51-4809-ac64-ddb603ac13b7",
   "metadata": {},
   "source": [
    "- to execute achieve runtime efficiency\n",
    "- breaks down the program into bits to execute faster\n",
    "- does not create copies of the program\n",
    "- enables multitasking \n"
   ]
  },
  {
   "cell_type": "markdown",
   "id": "b4eff0a0-7610-46f5-a380-d864ccc29906",
   "metadata": {},
   "source": [
    "### 2 . Threading module and use of functions"
   ]
  },
  {
   "cell_type": "markdown",
   "id": "eee71f17-fef9-4f6c-98c8-e075ccbc430a",
   "metadata": {},
   "source": [
    "Threading module is used for creating, Controlling and managing threads in python .\n",
    "it provides various functions and methods to handle threads and object types ."
   ]
  },
  {
   "cell_type": "markdown",
   "id": "b83a610f-336d-4b35-891f-18794cfe5556",
   "metadata": {},
   "source": [
    "3 Functions to be explained are :\n",
    "\n",
    "1. activeCount ()\n",
    "2. enumerate ()\n",
    "3. currentThread ()"
   ]
  },
  {
   "cell_type": "markdown",
   "id": "43062c04-d909-4642-892f-38134b1558a9",
   "metadata": {},
   "source": [
    "1. threading.activeCount() - return the count of numbers of threads currently alive."
   ]
  },
  {
   "cell_type": "markdown",
   "id": "80932bf9-3f80-43f3-81b2-b7de60cc5c6f",
   "metadata": {},
   "source": [
    "2. threading.enumerate - returns the list of thread that are currently alive , including main threads and thread that are terminated. and the threads that have not been started are excluded "
   ]
  },
  {
   "cell_type": "markdown",
   "id": "ddf74251-669a-4e13-ab5f-3cdbd9f82bfd",
   "metadata": {},
   "source": [
    "3. threading.currenThread() - returns the current thread corresponding to the caller's thread of control"
   ]
  },
  {
   "cell_type": "markdown",
   "id": "3c12e341-8ab2-48b1-a0e4-3a05dc36fd56",
   "metadata": {},
   "source": [
    "### 3 . Explain the following functions"
   ]
  },
  {
   "cell_type": "markdown",
   "id": "04434af0-ba39-466b-b2c8-6e3ae05c6c08",
   "metadata": {},
   "source": [
    "they are  :\n",
    "\n",
    "1. run ()\n",
    "2. start ()\n",
    "3. join ()\n",
    "4. isAlive ()"
   ]
  },
  {
   "cell_type": "markdown",
   "id": "f611b0a2-4256-4e78-9569-956856e0fe18",
   "metadata": {},
   "source": [
    "##### 1. run ()"
   ]
  },
  {
   "cell_type": "markdown",
   "id": "cca4685f-fb98-4735-944d-0f3dde1bed22",
   "metadata": {},
   "source": [
    "- the run() method of a thread is where the thread works. run() method executes any target function belonging to a given thread object that is currently active"
   ]
  },
  {
   "cell_type": "markdown",
   "id": "d6545f5e-b0e0-4a48-a8aa-37d1dcae9a22",
   "metadata": {},
   "source": [
    "##### 2. start ()"
   ]
  },
  {
   "cell_type": "markdown",
   "id": "69ca0446-5d4e-4847-a0ff-5aea0e4cd8f8",
   "metadata": {},
   "source": [
    "-  start() method is an inbuilt method of thread class of the threading module . it is used to start thread's activity. then run() starts internally executing the target thread functions"
   ]
  },
  {
   "cell_type": "markdown",
   "id": "c5f3b292-55df-43f6-9958-6ba3eed3d6e5",
   "metadata": {},
   "source": [
    "##### 3 . join ()"
   ]
  },
  {
   "cell_type": "markdown",
   "id": "7ac1d74f-7cb8-454f-851d-7975e8ca9dd9",
   "metadata": {},
   "source": [
    "- join() method is used to join a thread to another thread. it has an effect on threads such that it blocks one thread until the thread that has been joined is finished executing. we can use \"thread.join()\" to call this function"
   ]
  },
  {
   "cell_type": "markdown",
   "id": "38f1082c-5a1a-4884-af82-0a5790cae6b8",
   "metadata": {},
   "source": [
    "##### 4 . isAlive ()"
   ]
  },
  {
   "cell_type": "markdown",
   "id": "67b842a3-4514-4536-9ddc-ea5620fe2116",
   "metadata": {},
   "source": [
    "- this method isAlive() returns \"True\" if the thread is active and \"False\" otherwise."
   ]
  },
  {
   "cell_type": "markdown",
   "id": "e34ca91f-9494-461d-804f-77f21b5c1057",
   "metadata": {},
   "source": [
    "### 4 . Write thread to return list of sqaure and cubes"
   ]
  },
  {
   "cell_type": "code",
   "execution_count": 16,
   "id": "6ee43c8b-9a53-4162-9fd0-5a18dbdf3e20",
   "metadata": {},
   "outputs": [
    {
     "name": "stdout",
     "output_type": "stream",
     "text": [
      "Sqaure of 2 is : 4\n",
      "Sqaure of 4 is : 16\n",
      "Sqaure of 8 is : 64\n",
      "Sqaure of 16 is : 256\n",
      "cube of 2 is : 8\n",
      "cube of 3 is : 27\n",
      "cube of 4 is : 64\n",
      "cube of 5 is : 125\n",
      "cube of 6 is : 216\n"
     ]
    }
   ],
   "source": [
    "## importing threa module\n",
    "import threading\n",
    "\n",
    "## creating a function to return square\n",
    "def square(n):\n",
    "    n1 = n**2\n",
    "    print(\"Sqaure of %d is : %d\" %(n,n1))\n",
    "\n",
    "## creating a funciton to return cubes\n",
    "def cube(n):\n",
    "    n2 = n**3\n",
    "    print(\"cube of %d is : %d\" %(n,n2))\n",
    "\n",
    "## wrinting thread function\n",
    "thread1 = [threading.Thread(target=square, args=(i,)) for i in [2,4,8,16]]\n",
    "thread2 = [threading.Thread(target=cube, args=(i,)) for i in [2,3,4,5,6]]\n",
    "\n",
    "## starting the threads\n",
    "for t in thread1:\n",
    "    t.start()\n",
    "    \n",
    "for t1 in thread2:\n",
    "    t1.start()"
   ]
  },
  {
   "cell_type": "markdown",
   "id": "3cc879d0-fa01-411a-a406-379a4a722c05",
   "metadata": {},
   "source": [
    "### 5 . Advantages and Disadvantages of Multithreading"
   ]
  },
  {
   "cell_type": "markdown",
   "id": "f0801a9d-5d8b-4dd5-8bc7-e16d616a7f0c",
   "metadata": {},
   "source": [
    "##### Advantages :"
   ]
  },
  {
   "cell_type": "markdown",
   "id": "b1cc781c-8a61-4794-8d1e-a25e14327b7f",
   "metadata": {},
   "source": [
    "1. Improved performance , it can utilize cpu's with multiple processors and core more efficiently and execute multiple processoes concurrently\n",
    "\n",
    "2. Responsiveness , incase of single thread execution, whole program stops if it finds any error occurs, here since its multithreading it can be prevented\n",
    "\n",
    "3. Better utilization, multithreading can use reasources efficiently by performing operations while I/O operations takes place\n",
    "\n",
    "4. Easier to understand , design, maintain\n",
    "\n",
    "5. parellelsim , multithreading can significantly improve perfpormance of applications by diving program into independent smaller tasks."
   ]
  },
  {
   "cell_type": "markdown",
   "id": "f75d213c-eacd-4823-ab5c-5309df8711f3",
   "metadata": {},
   "source": [
    "##### Disadvantages :\n"
   ]
  },
  {
   "cell_type": "markdown",
   "id": "adb07ab3-36f4-41de-b751-022510050b42",
   "metadata": {},
   "source": [
    "1. Complexity , multithreading make it more complex to design, implement and debug the program.\n",
    "\n",
    "2. context switching , it can consume time and resources which can lead to performance degradation if not managed efficiently\n",
    "\n",
    "3. hard to predict behahviour, since the nature of multithreading behaviour of the program it is hard to reproduce and debug the program.\n",
    "\n",
    "4. Limited by hardware , in some cases the performance is degraded instead of improvement depending on the cpu cores."
   ]
  },
  {
   "cell_type": "markdown",
   "id": "5d8bc27e-8436-443b-85b6-9a6239f11650",
   "metadata": {},
   "source": [
    "### 6 . Deadlock and race conditions"
   ]
  },
  {
   "cell_type": "markdown",
   "id": "cebedd5e-0716-4715-acb6-d176f4cbe440",
   "metadata": {},
   "source": [
    "##### Deadlock :"
   ]
  },
  {
   "cell_type": "markdown",
   "id": "15e5cb27-089f-4177-9a45-68e8f606021e",
   "metadata": {},
   "source": [
    "Deadlock is a failure mode where a thread or threads wait for a condition that never occurs \n",
    "As a result the deadlock thread are unable to progress and the program is stuck or froxen and must be closed forcefully.\n",
    "\n",
    "This can avoided by synchronization objects like mutexes and semaphores"
   ]
  },
  {
   "cell_type": "markdown",
   "id": "bf127538-5be4-424a-8cf2-7307d0011198",
   "metadata": {},
   "source": [
    "#### race condition :"
   ]
  },
  {
   "cell_type": "markdown",
   "id": "60d4d83a-d60f-42f6-a8d3-3b214a6953d4",
   "metadata": {},
   "source": [
    "A race condition occurs when two or more threads access same shared varibale simultaneously leading to unpredictable outcome. in this scenario the first thread reads the value form the shared variable at the same time the second thread read values from same shared variable."
   ]
  },
  {
   "cell_type": "code",
   "execution_count": null,
   "id": "c46afb47-15d1-4e66-be90-014bf6cd044a",
   "metadata": {},
   "outputs": [],
   "source": []
  }
 ],
 "metadata": {
  "kernelspec": {
   "display_name": "Python 3 (ipykernel)",
   "language": "python",
   "name": "python3"
  },
  "language_info": {
   "codemirror_mode": {
    "name": "ipython",
    "version": 3
   },
   "file_extension": ".py",
   "mimetype": "text/x-python",
   "name": "python",
   "nbconvert_exporter": "python",
   "pygments_lexer": "ipython3",
   "version": "3.10.8"
  }
 },
 "nbformat": 4,
 "nbformat_minor": 5
}

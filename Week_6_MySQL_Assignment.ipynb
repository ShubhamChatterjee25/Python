{
 "cells": [
  {
   "cell_type": "markdown",
   "id": "df5b57e2-5b00-47da-983b-3efae0c61096",
   "metadata": {},
   "source": [
    "### 1 . What is Database and difference between SQL and NoSQL"
   ]
  },
  {
   "cell_type": "markdown",
   "id": "9f69cea7-0a7f-4783-8dd6-729e92a7ba58",
   "metadata": {},
   "source": [
    "Database :\n",
    "- A databased is organized collection of structured information or data typically stored in a computer system. A database is usually controlled by database management system (DBMS)"
   ]
  },
  {
   "cell_type": "markdown",
   "id": "cf7d5955-6adf-441d-8209-6a068190a297",
   "metadata": {},
   "source": [
    "Differences between SQL and NoSQL :"
   ]
  },
  {
   "cell_type": "markdown",
   "id": "0cdc3d36-9494-4f5d-9301-b3def493bf9a",
   "metadata": {},
   "source": [
    "|     SQL            |        NoSQL                            |\n",
    "|--------------------|-----------------------------------------|\n",
    "|1. SQL means \"Structured Query Language\" | 1. NoSQL means \"Not only SQL\" |\n",
    "|2. SQL databases are primarirly \"Relational Databases\" | 2. NoSQL databases are usually non-relational or distributed databases |\n",
    "|3. SQL data are table based. | 3. Where as NoSQL are document, graph, key-value pairs based. |\n",
    "|4. SQL have fixed or static schema | 4. NoSQL has dynamic schema |\n",
    "|5. Suitable for complex quries | 5. Not suitable for complex queries |\n",
    "|6. These are not suited for hierarchical storage | 6. Best suited for hierarchical storage |"
   ]
  },
  {
   "cell_type": "markdown",
   "id": "53ef8f81-aec2-4f42-9722-1dd9ec52e1f1",
   "metadata": {},
   "source": [
    "###  2 . What is DDL and Explain CREATE, DROP, ALTER, TRUNCATE with example"
   ]
  },
  {
   "cell_type": "markdown",
   "id": "d6961d10-ac57-4b4f-96f3-b9fdf8b51378",
   "metadata": {},
   "source": [
    "DDL (Data Definition Language ) : \n",
    "\n",
    "- In contect of SQL, Data definition or Data Description Language is a syntax for creating, modyfying database objects such as tables,indices. DDL statements are similar to computer programming language."
   ]
  },
  {
   "cell_type": "markdown",
   "id": "ee3c144d-12fa-4626-9286-738faa781770",
   "metadata": {},
   "source": [
    "##### CREATE : \n",
    "\n",
    "- it is used to create new databases in DBMS and also used to create new tables inside the database, "
   ]
  },
  {
   "cell_type": "markdown",
   "id": "abd8d92f-d132-4163-b530-cdfc36408650",
   "metadata": {},
   "source": [
    "Example to be written in SQL\n",
    "database\n",
    "\n",
    "1. CREATE DATABASE test_db;\n",
    "\n",
    "creating a table in sql\n",
    "\n",
    "2. CREATE TABLE test_table (c1 VARCHAR(50),c2 FLOAT)\n",
    "\n"
   ]
  },
  {
   "cell_type": "markdown",
   "id": "005716ac-5c17-4ae3-bb1d-48db3e023a51",
   "metadata": {},
   "source": [
    "##### ALTER :\n",
    "\n",
    "- it is used to add, delete, modify columns in an existing table. "
   ]
  },
  {
   "cell_type": "markdown",
   "id": "d16b940b-3e71-446e-b155-2b940298229c",
   "metadata": {},
   "source": [
    "Example to be written in SQL database\n",
    "\n",
    "1. ALTER TABLE table_name                                                                     \n",
    "   ADD column_name    data_type;"
   ]
  },
  {
   "cell_type": "markdown",
   "id": "48e465a4-494a-43ee-9eda-5d927b5a4f6b",
   "metadata": {},
   "source": [
    "##### DROP \n",
    "\n",
    "- The Drop command in SQL is not only deletes a table but also database, column, index.....etc.  "
   ]
  },
  {
   "cell_type": "markdown",
   "id": "93521c5d-e35f-4f0e-a7ee-a13e18f63ca8",
   "metadata": {},
   "source": [
    " Example to delete a table \n",
    " \n",
    " 1. DROP TABLE table_name;"
   ]
  },
  {
   "cell_type": "markdown",
   "id": "7def5672-177e-4174-871a-ed4078696b7f",
   "metadata": {},
   "source": [
    "##### TRUNCATE\n",
    "\n",
    "- Truncate and drop are similar but the major difference is that truncate is used to delete the data inside the table while keep the structure of the table intact. it is mainly used to delete temporary tables."
   ]
  },
  {
   "cell_type": "markdown",
   "id": "3967f13a-8bf9-4a34-a8f3-de4197d656a6",
   "metadata": {},
   "source": [
    "Example to TRUNCATE \n",
    "\n",
    "1. TRUNCATE TABLE table_name;                      \n",
    "   table_name : name of the table to be truncated                  \n",
    "   DATABASE  name_student_data"
   ]
  },
  {
   "cell_type": "markdown",
   "id": "1147a392-5bf6-4960-b771-3f18ef229364",
   "metadata": {},
   "source": [
    "### 3 . What is DML ? Explain INSERT, UPDATE and DELETE"
   ]
  },
  {
   "cell_type": "markdown",
   "id": "af521a62-2724-4318-a375-e710d2456566",
   "metadata": {},
   "source": [
    "DML ( Data Manipulation Language ) :\n",
    "\n",
    "- Data manipulation language is computer programming language used for adding, deleting, modifying data in databases. it is a sublanguage of SQL\n"
   ]
  },
  {
   "cell_type": "markdown",
   "id": "fbdc72a7-0e15-4c3d-a13b-3b037773e548",
   "metadata": {},
   "source": [
    "##### INSERT\n",
    "\n",
    "- it is a data manipulation command used to insert information into tables."
   ]
  },
  {
   "cell_type": "markdown",
   "id": "f6f601b2-133b-4f90-9d2e-e32c8d795473",
   "metadata": {},
   "source": [
    "Example to insert data\n",
    "\n",
    "1. INSERT INTO table_name VALUES (v1,v2,v3,v4.....)"
   ]
  },
  {
   "cell_type": "markdown",
   "id": "dd38f033-db2b-460b-a64c-3efa946e500a",
   "metadata": {},
   "source": [
    "##### UPDATE\n",
    "- the update statement in SQL is used to update the data of an existing table in databse. we can update single columns as well as multiple columns as per our requirements."
   ]
  },
  {
   "cell_type": "markdown",
   "id": "0d8ab3bb-6972-40fe-9dc0-1afdbc48024f",
   "metadata": {},
   "source": [
    "Example of update statement\n",
    " \n",
    "1. UPDATE table_name                        \n",
    "   SET column1 = value1, column2 = value2                \n",
    "   WHERE condition ;"
   ]
  },
  {
   "cell_type": "markdown",
   "id": "78198d90-e5fa-4d6d-a49b-4a414bc24899",
   "metadata": {},
   "source": [
    "##### DELETE\n",
    "\n",
    "- Delete command is part of data manipulation language that allows modification of data in databases, using this you can delete record based on condition or all records from a table "
   ]
  },
  {
   "cell_type": "markdown",
   "id": "53636eaa-f39c-4177-9482-29999a045f9e",
   "metadata": {},
   "source": [
    "Example of delete statement\n",
    "\n",
    "1. DELETE FROM table_name                                  \n",
    "   WHERE condition ;"
   ]
  },
  {
   "cell_type": "markdown",
   "id": "20585698-3ed3-4f48-a7df-69ccb84dc398",
   "metadata": {},
   "source": [
    "### 4 . What is DQL and explain SELECT with example"
   ]
  },
  {
   "cell_type": "markdown",
   "id": "d515741b-f3fe-44fd-917a-0ab480a67a31",
   "metadata": {},
   "source": [
    "DQL ( Data Query Language ):\n",
    "- it is a form of computer language that are used to make queries in information systems and databases. it is used to query data contained in schema objects    "
   ]
  },
  {
   "cell_type": "markdown",
   "id": "a71714d1-b321-4d11-a972-17f1e5ce92be",
   "metadata": {},
   "source": [
    "##### SELECT\n",
    "\n",
    "- select command is used to fetch data in set of records from a table, simple query to retrive all records of table, can be performed using \" * \". "
   ]
  },
  {
   "cell_type": "markdown",
   "id": "7bbe6ffe-e49d-42c9-8e40-68364b54f53f",
   "metadata": {},
   "source": [
    "Example to show SELECT statement \n",
    "\n",
    "1. SELECT *                                     \n",
    "   FROM table_name;"
   ]
  },
  {
   "cell_type": "markdown",
   "id": "b3bc689a-3aae-4bb7-9834-5e30733c3626",
   "metadata": {},
   "source": [
    "### 5 . Explain Primary Key and Foreign Key"
   ]
  },
  {
   "cell_type": "markdown",
   "id": "bc3c2f01-698b-4218-a672-45b22d62b9bf",
   "metadata": {},
   "source": [
    "##### Primary Key\n",
    "\n",
    "- it is a column or columns that contains values that uniquely identify each row in a table. it cannot contain a NULL value. each table can only have one primary key. primary key consists single or multiple columns. "
   ]
  },
  {
   "cell_type": "markdown",
   "id": "01f35f74-38f5-4bf2-b46c-e16065ac2909",
   "metadata": {},
   "source": [
    "##### Foreign Key\n",
    "\n",
    "- A foreign key is a field or collection of fields that refers back to the primary key in \"Another\" table. the table with foreign key is called \"child table\" and table with primary key is called \"referenced\" or \"Parent key\""
   ]
  },
  {
   "cell_type": "markdown",
   "id": "8cc0663c-cf96-46e0-af73-325fb86c6850",
   "metadata": {},
   "source": [
    "### 6 . Write a python code to connect to MySQL. Explain cursor() and execute() methods"
   ]
  },
  {
   "cell_type": "code",
   "execution_count": 4,
   "id": "ab1817d3-a778-4d35-bc67-0f3c66b3a965",
   "metadata": {},
   "outputs": [],
   "source": [
    "## writing code to connect to MySQL\n",
    "## importing MySQL\n",
    "import mysql.connector\n",
    "\n",
    "## created database\n",
    "mydb = mysql.connector.connect(\n",
    "    host = \"localhost\" \n",
    "    user = \"abc\"  ## providing username and password\n",
    "    password = \"password\"\n",
    ")"
   ]
  },
  {
   "cell_type": "markdown",
   "id": "e7c0f1e9-35e0-42b7-ad22-1a9c9eee253c",
   "metadata": {},
   "source": [
    "##### cursor () method\n",
    "- cursor is a temporary memory or temporary workstation. it is allocated by database servers at time of performing DML operations on table by user. cursors are used to store tables. there are 2 types of cursors.\n",
    "\n",
    "1. implicit cursors\n",
    "2. explicit cursors"
   ]
  },
  {
   "cell_type": "code",
   "execution_count": null,
   "id": "b02d15c4-fc78-435c-acd2-0234317e08f1",
   "metadata": {},
   "outputs": [],
   "source": [
    "## example of cursor in mysql python\n",
    "mycursor = mydb.cursor()"
   ]
  },
  {
   "cell_type": "markdown",
   "id": "618fcc5b-9c2f-4312-b619-9d6e33f75ed3",
   "metadata": {},
   "source": [
    "##### execute () method\n",
    "\n",
    "- this method executes given database operations (query or command). you can use this command to create tables, modify records, delete records. you can pass SQL queries as string commands to execute."
   ]
  },
  {
   "cell_type": "code",
   "execution_count": null,
   "id": "5ff2ef1d-e3a2-4901-bb50-d134248e945c",
   "metadata": {},
   "outputs": [],
   "source": [
    "## example of execute in mysql python\n",
    "mycursor.execute(\"this is my execute command\")"
   ]
  },
  {
   "cell_type": "markdown",
   "id": "663a732f-fc89-47d1-b433-aa9f22a0f666",
   "metadata": {},
   "source": [
    "### 7 . Order of Execution of clauses in SQL Query"
   ]
  },
  {
   "cell_type": "markdown",
   "id": "7248aab2-1a71-4631-ab5b-2d563075ffff",
   "metadata": {},
   "source": [
    "- The Order of execution defines the order in which the clauses of query are evaluated. Understanding query order can help you optimize your queries"
   ]
  },
  {
   "cell_type": "markdown",
   "id": "1cb0e682-9352-498c-a782-0b53791557d7",
   "metadata": {},
   "source": [
    "Order of Execution :"
   ]
  },
  {
   "cell_type": "markdown",
   "id": "99a50543-a850-4369-b91d-24dc11186b2a",
   "metadata": {},
   "source": [
    "|  no.   |      Clause     |      Function        |\n",
    "|-------|--------------------|--------------------|\n",
    "|1| FROM | choose and join tables to get base data |\n",
    "|2| WHERE | filters base data |\n",
    "|3| SELECT | returns the final data |\n",
    "|4| GROUP BY | Aggregates the base data | \n",
    "|5| HAVING | filters the aggregated data |\n",
    "|6| ORDER BY | sorts the final data |\n",
    "|7| LIMIT | limits the returned data to row count |\n"
   ]
  }
 ],
 "metadata": {
  "kernelspec": {
   "display_name": "Python 3 (ipykernel)",
   "language": "python",
   "name": "python3"
  },
  "language_info": {
   "codemirror_mode": {
    "name": "ipython",
    "version": 3
   },
   "file_extension": ".py",
   "mimetype": "text/x-python",
   "name": "python",
   "nbconvert_exporter": "python",
   "pygments_lexer": "ipython3",
   "version": "3.10.8"
  }
 },
 "nbformat": 4,
 "nbformat_minor": 5
}
